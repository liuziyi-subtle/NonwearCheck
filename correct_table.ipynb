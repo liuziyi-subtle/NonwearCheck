{
 "nbformat": 4,
 "nbformat_minor": 2,
 "metadata": {
  "language_info": {
   "name": "python",
   "codemirror_mode": {
    "name": "ipython",
    "version": 3
   },
   "version": "3.7.4-final"
  },
  "orig_nbformat": 2,
  "file_extension": ".py",
  "mimetype": "text/x-python",
  "name": "python",
  "npconvert_exporter": "python",
  "pygments_lexer": "ipython3",
  "version": 3,
  "kernelspec": {
   "name": "python37464bitc7dbff7cecd44203afd70ad84a4441ae",
   "display_name": "Python 3.7.4 64-bit"
  }
 },
 "cells": [
  {
   "cell_type": "code",
   "execution_count": 1,
   "metadata": {},
   "outputs": [],
   "source": [
    "import numpy as np\n",
    "import pandas as pd\n",
    "from glob import glob"
   ]
  },
  {
   "cell_type": "code",
   "execution_count": 6,
   "metadata": {},
   "outputs": [
    {
     "output_type": "execute_result",
     "data": {
      "text/plain": "array([ 4003, 26679, 60675])"
     },
     "metadata": {},
     "execution_count": 6
    }
   ],
   "source": [
    "glob('')\n",
    "pd.read_csv('')"
   ]
  },
  {
   "cell_type": "code",
   "execution_count": 4,
   "metadata": {},
   "outputs": [
    {
     "output_type": "execute_result",
     "data": {
      "text/plain": "[88581, 115511, 98819, 96771, 104525]"
     },
     "metadata": {},
     "execution_count": 4
    }
   ],
   "source": [
    "[x & 0x000000000001ffff for x in a.astype(np.uint32)]"
   ]
  },
  {
   "cell_type": "code",
   "execution_count": 8,
   "metadata": {},
   "outputs": [
    {
     "output_type": "execute_result",
     "data": {
      "text/plain": "array([ 4003, 26679, 60675], dtype=uint32)"
     },
     "metadata": {},
     "execution_count": 8
    }
   ],
   "source": [
    "b = a.astype(np.uint32)\n",
    "b & 0x000000000001ffff"
   ]
  },
  {
   "cell_type": "code",
   "execution_count": null,
   "metadata": {},
   "outputs": [],
   "source": [
    "for record_path in record_paths:\n",
    "    record = pd.read_csv(record_path, header=None,\n",
    "                         error_bad_lines=False, warn_bad_lines=False, verbose=False)\n",
    "    record[1] = shift_bit(record[1].values)\n",
    "    record[2] = shift_bit(record[2].values)\n",
    "    record.to_csv(os.path.join(RECORD_MOVE_DIR,\n",
    "                               manual_info['file_name']), header=None, index=None)"
   ]
  }
 ]
}