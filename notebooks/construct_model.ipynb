{
 "cells": [
  {
   "cell_type": "markdown",
   "metadata": {},
   "source": [
    "## Load Libraries"
   ]
  },
  {
   "cell_type": "code",
   "execution_count": 1,
   "metadata": {},
   "outputs": [],
   "source": [
    "import json\n",
    "from random import randint, sample\n",
    "import pandas as pd\n",
    "import numpy as np\n",
    "import pickle\n",
    "import seaborn as sns\n",
    "import matplotlib.pyplot as plt\n",
    "\n",
    "from sklearn.tree import DecisionTreeClassifier\n",
    "from sklearn.metrics import classification_report\n",
    "from sklearn.linear_model import LogisticRegression\n",
    "from sklearn.preprocessing import StandardScaler\n",
    "from sklearn.pipeline import make_pipeline\n",
    "from sklearn.utils import shuffle\n",
    "from sklearn.svm import SVC\n",
    "from sklearn.metrics import confusion_matrix\n",
    "from sklearn.metrics import accuracy_score\n",
    "from sklearn.metrics import confusion_matrix\n",
    "from sklearn.preprocessing import MinMaxScaler\n",
    "\n",
    "import xgboost\n",
    "import treelite\n",
    "\n",
    "\n",
    "sns.set(style=\"ticks\")\n",
    "np.set_printoptions(suppress=True)\n",
    "\n",
    "pd.set_option('display.max_rows', 150)"
   ]
  },
  {
   "cell_type": "markdown",
   "metadata": {},
   "source": [
    "## Load Data"
   ]
  },
  {
   "cell_type": "code",
   "execution_count": 2,
   "metadata": {},
   "outputs": [],
   "source": [
    "with open('/data/data/NonwearCheck/450/Results/annotations.json', 'r') as f:\n",
    "    annotations = json.load(f)\n",
    "\n",
    "record_annotation_index = {}\n",
    "for record_annotation in annotations['record_annotations']:\n",
    "    if record_annotation['id'] not in record_annotation_index:\n",
    "        record_annotation_index[record_annotation['id']] = {}\n",
    "    id = record_annotation['id']\n",
    "    record_annotation.pop('id')\n",
    "    record_annotation_index[id].update(record_annotation)\n",
    "\n",
    "segment_annotation_index = {}\n",
    "for segment_annotation in annotations['segment_annotations']:\n",
    "    if segment_annotation['id'] not in segment_annotation_index:\n",
    "        segment_annotation_index[segment_annotation['id']] = {}\n",
    "    id = segment_annotation['id']\n",
    "    segment_annotation.pop('id')\n",
    "    segment_annotation_index[id].update(segment_annotation)"
   ]
  },
  {
   "cell_type": "code",
   "execution_count": 42,
   "metadata": {},
   "outputs": [],
   "source": [
    "df_feats = pd.read_csv(\"/data/data/NonwearCheck/450/Results/df_feat_ppg_ir.csv\", index_col=None)\n",
    "df_feats = df_feats.iloc[shuffle(range(len(df_feats)), random_state=0), :]\n",
    "\n",
    "df_objects = pd.read_csv(\"/data/data/NonwearCheck/450/Results/df_object_ppg_ir.csv\", index_col=None)"
   ]
  },
  {
   "cell_type": "code",
   "execution_count": 43,
   "metadata": {},
   "outputs": [],
   "source": [
    "feats_cols = [c for c in df_feats.columns if \"ppg\" in c]\n",
    "target_col = \"wear_category_id\""
   ]
  },
  {
   "cell_type": "markdown",
   "metadata": {},
   "source": [
    "## 全数据构建模型"
   ]
  },
  {
   "cell_type": "code",
   "execution_count": 44,
   "metadata": {},
   "outputs": [
    {
     "output_type": "execute_result",
     "data": {
      "text/plain": [
       "0.9789966207434364"
      ]
     },
     "metadata": {},
     "execution_count": 44
    }
   ],
   "source": [
    "# 利用xgboost选择前50个特征分析\n",
    "params = {'max_depth': 6, 'objective': 'binary:logistic', \"n_jobs\": -1}\n",
    "num_iter = 20\n",
    "\n",
    "X_cols, y_col = [\n",
    "    'ppg_ir__cid_ce__normalize_True',\n",
    "    'ppg_ir__number_peaks__n_1',\n",
    "    'ppg_ir__number_peaks__n_3',\n",
    "    'ppg_ir__agg_linear_trend__attr_\"intercept\"__chunk_len_50__f_agg_\"max\"',\n",
    "    'ppg_ir__ratio_beyond_r_sigma__r_0.5',\n",
    "    'ppg_ir__autocorrelation__lag_2',\n",
    "    'ppg_ir__autocorrelation__lag_6',\n",
    "    'ppg_ir__binned_entropy__max_bins_10',\n",
    "    'ppg_ir__change_quantiles__f_agg_\"var\"__isabs_False__qh_0.6__ql_0.4',\n",
    "    'ppg_ir__percentage_of_reoccurring_values_to_all_values'\n",
    "                       ], target_col\n",
    "\n",
    "X, y = df_feats.loc[:, X_cols].values, df_feats.loc[:, y_col].values\n",
    "\n",
    "# scaler = MinMaxScaler()\n",
    "# X = scaler.fit_transform(X)\n",
    "\n",
    "D_train = xgboost.DMatrix(X, label=y)\n",
    "D_test = xgboost.DMatrix(X, label=y)\n",
    "\n",
    "bst = xgboost.train(params, D_train, num_iter, [(D_train, 'train')], verbose_eval=False)\n",
    "\n",
    "accuracy_score(y, bst.predict(D_test) > 0.7)"
   ]
  },
  {
   "cell_type": "code",
   "execution_count": 45,
   "metadata": {},
   "outputs": [
    {
     "output_type": "stream",
     "name": "stdout",
     "text": [
      "[08:32:09] /workspace/src/compiler/ast_native.cc:44: Using ASTNativeCompiler\n[08:32:09] /workspace/src/compiler/ast/split.cc:24: Parallel compilation disabled; all member trees will be dumped to a single source file. This may increase compilation time and memory usage.\n[08:32:09] /workspace/src/c_api/c_api.cc:286: Code generation finished. Writing code to files...\n[08:32:09] /workspace/src/c_api/c_api.cc:291: Writing file recipe.json...\n[08:32:09] /workspace/src/c_api/c_api.cc:291: Writing file header.h...\n[08:32:09] /workspace/src/c_api/c_api.cc:291: Writing file main.c...\n"
     ]
    }
   ],
   "source": [
    "model = treelite.Model.from_xgboost(bst)\n",
    "\n",
    "model.export_srcpkg(platform='unix', toolchain='gcc', pkgpath='./model_20201231_003.zip',\n",
    "                    libname='mymodel.so', verbose=True, params={'quantize': 1})"
   ]
  },
  {
   "cell_type": "markdown",
   "metadata": {},
   "source": [
    "## 验证和C一致性"
   ]
  },
  {
   "cell_type": "code",
   "execution_count": 53,
   "metadata": {},
   "outputs": [],
   "source": [
    "selected_object_ids = [15000]# list(range(3000, 3004))"
   ]
  },
  {
   "cell_type": "markdown",
   "metadata": {},
   "source": [
    "### 待验证数据"
   ]
  },
  {
   "cell_type": "code",
   "execution_count": 58,
   "metadata": {},
   "outputs": [
    {
     "output_type": "execute_result",
     "data": {
      "text/plain": [
       "array([21054, 21049, 21035, 21030, 21051, 21046, 21045, 21038, 21052,\n",
       "       21050, 21061, 21038, 21041, 21056, 21046, 21045, 21047, 21050,\n",
       "       21043, 21043, 21053, 21049, 21046, 21042, 21046, 21049, 21049,\n",
       "       21048, 21055, 21065, 21053, 21038, 21051, 21044, 21060, 21051,\n",
       "       21055, 21047, 21055, 21062, 21045, 21052, 21049, 21059, 21042,\n",
       "       21057, 21058, 21052, 21051, 21049, 21058, 21058, 21071, 21057,\n",
       "       21041, 21050, 21061, 21053, 21044, 21050, 21049, 21041, 21060,\n",
       "       21047, 21050, 21041, 21049, 21058, 21052, 21059, 21042, 21054,\n",
       "       21050, 21048, 21058, 21052, 21057, 21050, 21046, 21056, 21052,\n",
       "       21057, 21051, 21060, 21058, 21060, 21057, 21053, 21060, 21051,\n",
       "       21070, 21064, 21039, 21050, 21057, 21064, 21056, 21043, 21048,\n",
       "       21040, 21052, 21060, 21065, 21052, 21053, 21045, 21043, 21050,\n",
       "       21057, 21057, 21055, 21055, 21056, 21066, 21069, 21061, 21055,\n",
       "       21070, 21053, 21061, 21048, 21071, 21059, 21066, 21046, 21061,\n",
       "       21063, 21063])"
      ]
     },
     "metadata": {},
     "execution_count": 58
    }
   ],
   "source": [
    "selected_object_ids = [15000]\n",
    "mask = np.isin(df_objects['id'], selected_object_ids)\n",
    "mask = np.where(mask)[0]\n",
    "df_objects.loc[mask, 'ppg_ir'].values"
   ]
  },
  {
   "cell_type": "markdown",
   "metadata": {},
   "source": [
    "### 特征一致性"
   ]
  },
  {
   "cell_type": "code",
   "execution_count": 59,
   "metadata": {},
   "outputs": [
    {
     "output_type": "execute_result",
     "data": {
      "text/plain": [
       "       ppg_ir__cid_ce__normalize_True  ppg_ir__number_peaks__n_1  \\\n",
       "15000                       13.807082                       39.0   \n",
       "\n",
       "       ppg_ir__number_peaks__n_3  \\\n",
       "15000                       17.0   \n",
       "\n",
       "       ppg_ir__agg_linear_trend__attr_\"intercept\"__chunk_len_50__f_agg_\"max\"  \\\n",
       "15000                                            21066.0                       \n",
       "\n",
       "       ppg_ir__ratio_beyond_r_sigma__r_0.5  ppg_ir__autocorrelation__lag_2  \\\n",
       "15000                             0.617188                        0.145667   \n",
       "\n",
       "       ppg_ir__autocorrelation__lag_6  ppg_ir__binned_entropy__max_bins_10  \\\n",
       "15000                         0.18626                             2.074416   \n",
       "\n",
       "       ppg_ir__change_quantiles__f_agg_\"var\"__isabs_False__qh_0.6__ql_0.4  \\\n",
       "15000                                           6.222222                    \n",
       "\n",
       "       ppg_ir__percentage_of_reoccurring_values_to_all_values  \n",
       "15000                                           0.953125       "
      ],
      "text/html": "<div>\n<style scoped>\n    .dataframe tbody tr th:only-of-type {\n        vertical-align: middle;\n    }\n\n    .dataframe tbody tr th {\n        vertical-align: top;\n    }\n\n    .dataframe thead th {\n        text-align: right;\n    }\n</style>\n<table border=\"1\" class=\"dataframe\">\n  <thead>\n    <tr style=\"text-align: right;\">\n      <th></th>\n      <th>ppg_ir__cid_ce__normalize_True</th>\n      <th>ppg_ir__number_peaks__n_1</th>\n      <th>ppg_ir__number_peaks__n_3</th>\n      <th>ppg_ir__agg_linear_trend__attr_\"intercept\"__chunk_len_50__f_agg_\"max\"</th>\n      <th>ppg_ir__ratio_beyond_r_sigma__r_0.5</th>\n      <th>ppg_ir__autocorrelation__lag_2</th>\n      <th>ppg_ir__autocorrelation__lag_6</th>\n      <th>ppg_ir__binned_entropy__max_bins_10</th>\n      <th>ppg_ir__change_quantiles__f_agg_\"var\"__isabs_False__qh_0.6__ql_0.4</th>\n      <th>ppg_ir__percentage_of_reoccurring_values_to_all_values</th>\n    </tr>\n  </thead>\n  <tbody>\n    <tr>\n      <th>15000</th>\n      <td>13.807082</td>\n      <td>39.0</td>\n      <td>17.0</td>\n      <td>21066.0</td>\n      <td>0.617188</td>\n      <td>0.145667</td>\n      <td>0.18626</td>\n      <td>2.074416</td>\n      <td>6.222222</td>\n      <td>0.953125</td>\n    </tr>\n  </tbody>\n</table>\n</div>"
     },
     "metadata": {},
     "execution_count": 59
    }
   ],
   "source": [
    "feats = df_feats.loc[selected_object_ids, X_cols]\n",
    "feats"
   ]
  },
  {
   "cell_type": "markdown",
   "metadata": {},
   "source": [
    "### 模型一致性"
   ]
  },
  {
   "cell_type": "code",
   "execution_count": 60,
   "metadata": {},
   "outputs": [
    {
     "output_type": "execute_result",
     "data": {
      "text/plain": [
       "array([0.996917], dtype=float32)"
      ]
     },
     "metadata": {},
     "execution_count": 60
    }
   ],
   "source": [
    "D = xgboost.DMatrix(feats.values)\n",
    "bst.predict(D)"
   ]
  },
  {
   "cell_type": "code",
   "execution_count": 66,
   "metadata": {},
   "outputs": [],
   "source": [
    "import json\n",
    "import logging\n",
    "\n",
    "_logger = logging.getLogger('nni')"
   ]
  },
  {
   "cell_type": "code",
   "execution_count": 67,
   "metadata": {},
   "outputs": [],
   "source": [
    "_logger.info(\n",
    "            \"Creating graph json, writing to. Visualization enabled.\")"
   ]
  },
  {
   "cell_type": "code",
   "execution_count": null,
   "metadata": {},
   "outputs": [],
   "source": []
  }
 ],
 "metadata": {
  "kernelspec": {
   "display_name": "Python 3",
   "language": "python",
   "name": "python3"
  },
  "language_info": {
   "codemirror_mode": {
    "name": "ipython",
    "version": 3
   },
   "file_extension": ".py",
   "mimetype": "text/x-python",
   "name": "python",
   "nbconvert_exporter": "python",
   "pygments_lexer": "ipython3",
   "version": "3.8.0-final"
  }
 },
 "nbformat": 4,
 "nbformat_minor": 4
}