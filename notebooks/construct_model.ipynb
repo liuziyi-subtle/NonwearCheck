{
 "cells": [
  {
   "cell_type": "markdown",
   "metadata": {},
   "source": [
    "## Load Libraries"
   ]
  },
  {
   "cell_type": "code",
   "execution_count": 35,
   "metadata": {},
   "outputs": [],
   "source": [
    "import json\n",
    "from random import randint, sample\n",
    "import pandas as pd\n",
    "import numpy as np\n",
    "import pickle\n",
    "import seaborn as sns\n",
    "import matplotlib.pyplot as plt\n",
    "\n",
    "from sklearn.tree import DecisionTreeClassifier\n",
    "from sklearn.metrics import classification_report\n",
    "from sklearn.linear_model import LogisticRegression\n",
    "from sklearn.preprocessing import StandardScaler\n",
    "from sklearn.pipeline import make_pipeline\n",
    "from sklearn.utils import shuffle\n",
    "from sklearn.svm import SVC\n",
    "from sklearn.metrics import confusion_matrix\n",
    "from sklearn.metrics import accuracy_score\n",
    "from sklearn.metrics import confusion_matrix\n",
    "from sklearn.preprocessing import MinMaxScaler\n",
    "\n",
    "import xgboost\n",
    "import treelite\n",
    "\n",
    "\n",
    "sns.set(style=\"ticks\")\n",
    "np.set_printoptions(suppress=True)\n",
    "\n",
    "pd.set_option('display.max_rows', 150)"
   ]
  },
  {
   "cell_type": "markdown",
   "metadata": {},
   "source": [
    "## Load Data"
   ]
  },
  {
   "cell_type": "code",
   "execution_count": 36,
   "metadata": {},
   "outputs": [
    {
     "ename": "FileNotFoundError",
     "evalue": "[Errno 2] No such file or directory: '/data/data/NonwearCheck/450/Results/annotations.json'",
     "output_type": "error",
     "traceback": [
      "\u001b[0;31m---------------------------------------------------------------------------\u001b[0m",
      "\u001b[0;31mFileNotFoundError\u001b[0m                         Traceback (most recent call last)",
      "\u001b[0;32m<ipython-input-36-cb16c0f7b9bb>\u001b[0m in \u001b[0;36m<module>\u001b[0;34m\u001b[0m\n\u001b[0;32m----> 1\u001b[0;31m \u001b[0;32mwith\u001b[0m \u001b[0mopen\u001b[0m\u001b[0;34m(\u001b[0m\u001b[0;34m'/data/data/NonwearCheck/450/Results/annotations.json'\u001b[0m\u001b[0;34m,\u001b[0m \u001b[0;34m'r'\u001b[0m\u001b[0;34m)\u001b[0m \u001b[0;32mas\u001b[0m \u001b[0mf\u001b[0m\u001b[0;34m:\u001b[0m\u001b[0;34m\u001b[0m\u001b[0;34m\u001b[0m\u001b[0m\n\u001b[0m\u001b[1;32m      2\u001b[0m     \u001b[0mannotations\u001b[0m \u001b[0;34m=\u001b[0m \u001b[0mjson\u001b[0m\u001b[0;34m.\u001b[0m\u001b[0mload\u001b[0m\u001b[0;34m(\u001b[0m\u001b[0mf\u001b[0m\u001b[0;34m)\u001b[0m\u001b[0;34m\u001b[0m\u001b[0;34m\u001b[0m\u001b[0m\n\u001b[1;32m      3\u001b[0m \u001b[0;34m\u001b[0m\u001b[0m\n\u001b[1;32m      4\u001b[0m \u001b[0mrecord_annotation_index\u001b[0m \u001b[0;34m=\u001b[0m \u001b[0;34m{\u001b[0m\u001b[0;34m}\u001b[0m\u001b[0;34m\u001b[0m\u001b[0;34m\u001b[0m\u001b[0m\n\u001b[1;32m      5\u001b[0m \u001b[0;32mfor\u001b[0m \u001b[0mrecord_annotation\u001b[0m \u001b[0;32min\u001b[0m \u001b[0mannotations\u001b[0m\u001b[0;34m[\u001b[0m\u001b[0;34m'record_annotations'\u001b[0m\u001b[0;34m]\u001b[0m\u001b[0;34m:\u001b[0m\u001b[0;34m\u001b[0m\u001b[0;34m\u001b[0m\u001b[0m\n",
      "\u001b[0;31mFileNotFoundError\u001b[0m: [Errno 2] No such file or directory: '/data/data/NonwearCheck/450/Results/annotations.json'"
     ]
    }
   ],
   "source": [
    "with open('/data/data/NonwearCheck/450/Results/annotations.json', 'r') as f:\n",
    "    annotations = json.load(f)\n",
    "\n",
    "record_annotation_index = {}\n",
    "for record_annotation in annotations['record_annotations']:\n",
    "    if record_annotation['id'] not in record_annotation_index:\n",
    "        record_annotation_index[record_annotation['id']] = {}\n",
    "    id = record_annotation['id']\n",
    "    record_annotation.pop('id')\n",
    "    record_annotation_index[id].update(record_annotation)\n",
    "\n",
    "segment_annotation_index = {}\n",
    "for segment_annotation in annotations['segment_annotations']:\n",
    "    if segment_annotation['id'] not in segment_annotation_index:\n",
    "        segment_annotation_index[segment_annotation['id']] = {}\n",
    "    id = segment_annotation['id']\n",
    "    segment_annotation.pop('id')\n",
    "    segment_annotation_index[id].update(segment_annotation)"
   ]
  },
  {
   "cell_type": "code",
   "execution_count": 45,
   "metadata": {},
   "outputs": [],
   "source": [
    "df_feats = pd.read_csv(\"/data/data/NonwearCheck/456/Results/df_feat_ppg_gr.csv\", index_col=None)\n",
    "df_feats = df_feats.iloc[shuffle(range(len(df_feats)), random_state=0), :]\n",
    "\n",
    "df_objects = pd.read_csv(\"/data/data/NonwearCheck/456/Results/df_object_ppg_gr.csv\", index_col=None)"
   ]
  },
  {
   "cell_type": "code",
   "execution_count": 46,
   "metadata": {},
   "outputs": [],
   "source": [
    "feats_cols = [c for c in df_feats.columns if \"ppg\" in c]\n",
    "target_col = \"wear_category_id\""
   ]
  },
  {
   "cell_type": "markdown",
   "metadata": {},
   "source": [
    "## 全数据构建模型"
   ]
  },
  {
   "cell_type": "code",
   "execution_count": 55,
   "metadata": {},
   "outputs": [
    {
     "name": "stdout",
     "output_type": "stream",
     "text": [
      "[00:11:16] WARNING: /xgboost/src/learner.cc:1043: Starting in XGBoost 1.3.0, the default evaluation metric used with the objective 'binary:logistic' was changed from 'error' to 'logloss'. Explicitly set eval_metric if you'd like to restore the old behavior.\n"
     ]
    },
    {
     "data": {
      "text/plain": [
       "0.9844467108618052"
      ]
     },
     "execution_count": 55,
     "metadata": {},
     "output_type": "execute_result"
    }
   ],
   "source": [
    "# 利用xgboost选择前50个特征分析\n",
    "params = {'max_depth': 6, 'objective': 'binary:logistic', \"n_jobs\": -1}\n",
    "num_iter = 20\n",
    "\n",
    "X_cols, y_col = [\n",
    "    'ppg-g__ar_2',\n",
    "    'ppg-g__number_peaks__n_3',\n",
    "    'ppg-g__autocorrelation__lag_4',\n",
    "    'ppg-g__agg_linear_trend__attr_\"stderr\"__chunk_len_5__f_agg_\"var\"',\n",
    "    'ppg-g__agg_linear_trend__attr_\"stderr\"__chunk_len_10__f_agg_\"mean\"',\n",
    "    'ppg-g__binned_entropy__max_bins_10',\n",
    "    'ppg-g__change_quantiles__f_agg_\"mean\"__isabs_True__qh_0.2__ql_0.0',\n",
    "    'ppg-g__change_quantiles__f_agg_\"mean\"__isabs_True__qh_1.0__ql_0.8',\n",
    "    'ppg-g__change_quantiles__f_agg_\"var\"__isabs_True__qh_1.0__ql_0.0',\n",
    "    'ppg-g__ratio_beyond_r_sigma__r_1.5'\n",
    "                       ], target_col\n",
    "\n",
    "X, y = df_feats.loc[:, X_cols].values, df_feats.loc[:, y_col].values\n",
    "\n",
    "# scaler = MinMaxScaler()\n",
    "# X = scaler.fit_transform(X)\n",
    "\n",
    "D_train = xgboost.DMatrix(X, label=y)\n",
    "D_test = xgboost.DMatrix(X, label=y)\n",
    "\n",
    "bst = xgboost.train(params, D_train, num_iter, [(D_train, 'train')], verbose_eval=False)\n",
    "\n",
    "accuracy_score(y, bst.predict(D_test) > 0.6)"
   ]
  },
  {
   "cell_type": "code",
   "execution_count": 40,
   "metadata": {},
   "outputs": [
    {
     "name": "stdout",
     "output_type": "stream",
     "text": [
      "[00:00:27] /workspace/src/compiler/ast_native.cc:44: Using ASTNativeCompiler\n",
      "[00:00:27] /workspace/src/compiler/ast/split.cc:24: Parallel compilation disabled; all member trees will be dumped to a single source file. This may increase compilation time and memory usage.\n",
      "[00:00:27] /workspace/src/c_api/c_api.cc:286: Code generation finished. Writing code to files...\n",
      "[00:00:27] /workspace/src/c_api/c_api.cc:291: Writing file recipe.json...\n",
      "[00:00:27] /workspace/src/c_api/c_api.cc:291: Writing file header.h...\n",
      "[00:00:27] /workspace/src/c_api/c_api.cc:291: Writing file main.c...\n"
     ]
    }
   ],
   "source": [
    "model = treelite.Model.from_xgboost(bst)\n",
    "\n",
    "model.export_srcpkg(platform='unix', toolchain='gcc', pkgpath='./model_20210526_003.zip',\n",
    "                    libname='mymodel.so', verbose=True, params={'quantize': 1})"
   ]
  },
  {
   "cell_type": "markdown",
   "metadata": {},
   "source": [
    "## 验证和C一致性"
   ]
  },
  {
   "cell_type": "code",
   "execution_count": 50,
   "metadata": {},
   "outputs": [],
   "source": [
    "selected_object_ids = [5000]# list(range(3000, 3004))"
   ]
  },
  {
   "cell_type": "markdown",
   "metadata": {},
   "source": [
    "### 待验证数据"
   ]
  },
  {
   "cell_type": "code",
   "execution_count": 64,
   "metadata": {},
   "outputs": [
    {
     "data": {
      "text/plain": [
       "array([1100.101, 1097.175, 1092.661, 1088.089, 1084.045, 1080.214,\n",
       "       1076.103, 1073.449, 1072.673, 1074.012, 1073.969, 1073.602,\n",
       "       1071.675, 1070.694, 1070.557, 1069.311, 1070.386, 1070.634,\n",
       "       1072.527, 1072.4  , 1071.598, 1071.82 , 1071.853, 1068.97 ,\n",
       "       1065.959, 1064.551, 1062.742, 1058.186, 1049.605, 1043.282,\n",
       "       1038.496, 1036.765, 1041.739, 1050.747, 1060.61 , 1062.896,\n",
       "       1066.684, 1064.764, 1059.509, 1053.178, 1044.878, 1036.663,\n",
       "       1031.672, 1031.39 , 1030.981, 1031.663, 1038.582, 1046.081,\n",
       "       1052.863, 1059.125, 1063.383, 1064.653, 1066.368, 1065.156,\n",
       "       1064.594, 1067.451, 1069.064, 1069.9  , 1066.888, 1063.885,\n",
       "       1060.84 , 1058.579, 1055.952, 1054.782, 1052.923, 1052.343,\n",
       "       1053.392, 1054.808, 1055.072, 1055.525, 1054.979, 1054.672,\n",
       "       1055.423, 1054.757, 1054.859, 1055.005, 1055.482, 1051.788,\n",
       "       1051.012, 1049.817, 1052.496, 1059.517, 1056.668, 1055.2  ,\n",
       "       1053.008, 1050.158, 1050.065, 1049.144, 1048.41 , 1046.713,\n",
       "       1044.468, 1041.918, 1040.723, 1038.65 , 1037.438, 1035.826,\n",
       "       1033.702, 1032.115, 1030.929, 1028.78 , 1028.396, 1025.879,\n",
       "       1023.805, 1020.931, 1019.6  , 1018.909, 1018.678, 1020.521,\n",
       "       1020.162, 1021.801, 1021.895, 1019.984, 1019.071, 1016.606,\n",
       "       1016.119, 1016.324, 1014.686, 1014.199, 1012.852, 1010.932,\n",
       "       1006.735, 1004.585, 1002.376, 1002.316, 1004.209, 1010.6  ,\n",
       "       1011.768, 1012.681])"
      ]
     },
     "execution_count": 64,
     "metadata": {},
     "output_type": "execute_result"
    }
   ],
   "source": [
    "selected_object_ids = [1000]\n",
    "mask = np.isin(df_objects['id'], selected_object_ids)\n",
    "mask = np.where(mask)[0]\n",
    "df_objects.loc[mask, 'ppg-g'].values"
   ]
  },
  {
   "cell_type": "markdown",
   "metadata": {},
   "source": [
    "### 特征一致性"
   ]
  },
  {
   "cell_type": "code",
   "execution_count": 65,
   "metadata": {},
   "outputs": [
    {
     "data": {
      "text/html": [
       "<div>\n",
       "<style scoped>\n",
       "    .dataframe tbody tr th:only-of-type {\n",
       "        vertical-align: middle;\n",
       "    }\n",
       "\n",
       "    .dataframe tbody tr th {\n",
       "        vertical-align: top;\n",
       "    }\n",
       "\n",
       "    .dataframe thead th {\n",
       "        text-align: right;\n",
       "    }\n",
       "</style>\n",
       "<table border=\"1\" class=\"dataframe\">\n",
       "  <thead>\n",
       "    <tr style=\"text-align: right;\">\n",
       "      <th></th>\n",
       "      <th>ppg-g__ar_2</th>\n",
       "      <th>ppg-g__number_peaks__n_3</th>\n",
       "      <th>ppg-g__autocorrelation__lag_4</th>\n",
       "      <th>ppg-g__agg_linear_trend__attr_\"stderr\"__chunk_len_5__f_agg_\"var\"</th>\n",
       "      <th>ppg-g__agg_linear_trend__attr_\"stderr\"__chunk_len_10__f_agg_\"mean\"</th>\n",
       "      <th>ppg-g__binned_entropy__max_bins_10</th>\n",
       "      <th>ppg-g__change_quantiles__f_agg_\"mean\"__isabs_True__qh_0.2__ql_0.0</th>\n",
       "      <th>ppg-g__change_quantiles__f_agg_\"mean\"__isabs_True__qh_1.0__ql_0.8</th>\n",
       "      <th>ppg-g__change_quantiles__f_agg_\"var\"__isabs_True__qh_1.0__ql_0.0</th>\n",
       "      <th>ppg-g__ratio_beyond_r_sigma__r_1.5</th>\n",
       "    </tr>\n",
       "  </thead>\n",
       "  <tbody>\n",
       "    <tr>\n",
       "      <th>1000</th>\n",
       "      <td>-0.108967</td>\n",
       "      <td>7.0</td>\n",
       "      <td>0.79985</td>\n",
       "      <td>0.630177</td>\n",
       "      <td>0.779862</td>\n",
       "      <td>2.103959</td>\n",
       "      <td>1.57664</td>\n",
       "      <td>1.732792</td>\n",
       "      <td>4.732611</td>\n",
       "      <td>0.132812</td>\n",
       "    </tr>\n",
       "  </tbody>\n",
       "</table>\n",
       "</div>"
      ],
      "text/plain": [
       "      ppg-g__ar_2  ppg-g__number_peaks__n_3  ppg-g__autocorrelation__lag_4  \\\n",
       "1000    -0.108967                       7.0                        0.79985   \n",
       "\n",
       "      ppg-g__agg_linear_trend__attr_\"stderr\"__chunk_len_5__f_agg_\"var\"  \\\n",
       "1000                                           0.630177                  \n",
       "\n",
       "      ppg-g__agg_linear_trend__attr_\"stderr\"__chunk_len_10__f_agg_\"mean\"  \\\n",
       "1000                                           0.779862                    \n",
       "\n",
       "      ppg-g__binned_entropy__max_bins_10  \\\n",
       "1000                            2.103959   \n",
       "\n",
       "      ppg-g__change_quantiles__f_agg_\"mean\"__isabs_True__qh_0.2__ql_0.0  \\\n",
       "1000                                            1.57664                   \n",
       "\n",
       "      ppg-g__change_quantiles__f_agg_\"mean\"__isabs_True__qh_1.0__ql_0.8  \\\n",
       "1000                                           1.732792                   \n",
       "\n",
       "      ppg-g__change_quantiles__f_agg_\"var\"__isabs_True__qh_1.0__ql_0.0  \\\n",
       "1000                                           4.732611                  \n",
       "\n",
       "      ppg-g__ratio_beyond_r_sigma__r_1.5  \n",
       "1000                            0.132812  "
      ]
     },
     "execution_count": 65,
     "metadata": {},
     "output_type": "execute_result"
    }
   ],
   "source": [
    "feats = df_feats.loc[selected_object_ids, X_cols]\n",
    "feats"
   ]
  },
  {
   "cell_type": "markdown",
   "metadata": {},
   "source": [
    "### 模型一致性"
   ]
  },
  {
   "cell_type": "code",
   "execution_count": 66,
   "metadata": {},
   "outputs": [
    {
     "data": {
      "text/plain": [
       "array([0.00416401], dtype=float32)"
      ]
     },
     "execution_count": 66,
     "metadata": {},
     "output_type": "execute_result"
    }
   ],
   "source": [
    "D = xgboost.DMatrix(feats.values)\n",
    "bst.predict(D)"
   ]
  },
  {
   "cell_type": "code",
   "execution_count": 66,
   "metadata": {},
   "outputs": [],
   "source": [
    "import json\n",
    "import logging\n",
    "\n",
    "_logger = logging.getLogger('nni')"
   ]
  },
  {
   "cell_type": "code",
   "execution_count": 67,
   "metadata": {},
   "outputs": [],
   "source": [
    "_logger.info(\n",
    "            \"Creating graph json, writing to. Visualization enabled.\")"
   ]
  },
  {
   "cell_type": "code",
   "execution_count": null,
   "metadata": {},
   "outputs": [],
   "source": []
  }
 ],
 "metadata": {
  "kernelspec": {
   "display_name": "Python 3",
   "language": "python",
   "name": "python3"
  },
  "language_info": {
   "codemirror_mode": {
    "name": "ipython",
    "version": 3
   },
   "file_extension": ".py",
   "mimetype": "text/x-python",
   "name": "python",
   "nbconvert_exporter": "python",
   "pygments_lexer": "ipython3",
   "version": "3.8.0"
  }
 },
 "nbformat": 4,
 "nbformat_minor": 4
}
