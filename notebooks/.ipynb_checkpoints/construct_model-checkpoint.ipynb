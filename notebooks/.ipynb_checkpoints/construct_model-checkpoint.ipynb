{
 "cells": [
  {
   "cell_type": "markdown",
   "metadata": {},
   "source": [
    "## Load Libraries"
   ]
  },
  {
   "cell_type": "code",
   "execution_count": 1,
   "metadata": {},
   "outputs": [],
   "source": [
    "import json\n",
    "from random import randint, sample\n",
    "import pandas as pd\n",
    "import numpy as np\n",
    "import pickle\n",
    "import seaborn as sns\n",
    "import matplotlib.pyplot as plt\n",
    "\n",
    "from sklearn.tree import DecisionTreeClassifier\n",
    "from sklearn.metrics import classification_report\n",
    "from sklearn.linear_model import LogisticRegression\n",
    "from sklearn.preprocessing import StandardScaler\n",
    "from sklearn.pipeline import make_pipeline\n",
    "from sklearn.utils import shuffle\n",
    "from sklearn.svm import SVC\n",
    "from sklearn.metrics import confusion_matrix\n",
    "from sklearn.metrics import accuracy_score\n",
    "from sklearn.metrics import confusion_matrix\n",
    "from sklearn.preprocessing import MinMaxScaler\n",
    "\n",
    "import xgboost\n",
    "import treelite\n",
    "\n",
    "\n",
    "sns.set(style=\"ticks\")\n",
    "np.set_printoptions(suppress=True)\n",
    "\n",
    "pd.set_option('display.max_rows', 150)"
   ]
  },
  {
   "cell_type": "markdown",
   "metadata": {},
   "source": [
    "## Load Data"
   ]
  },
  {
   "cell_type": "code",
   "execution_count": 36,
   "metadata": {},
   "outputs": [
    {
     "ename": "FileNotFoundError",
     "evalue": "[Errno 2] No such file or directory: '/data/data/NonwearCheck/450/Results/annotations.json'",
     "output_type": "error",
     "traceback": [
      "\u001b[0;31m---------------------------------------------------------------------------\u001b[0m",
      "\u001b[0;31mFileNotFoundError\u001b[0m                         Traceback (most recent call last)",
      "\u001b[0;32m<ipython-input-36-cb16c0f7b9bb>\u001b[0m in \u001b[0;36m<module>\u001b[0;34m\u001b[0m\n\u001b[0;32m----> 1\u001b[0;31m \u001b[0;32mwith\u001b[0m \u001b[0mopen\u001b[0m\u001b[0;34m(\u001b[0m\u001b[0;34m'/data/data/NonwearCheck/450/Results/annotations.json'\u001b[0m\u001b[0;34m,\u001b[0m \u001b[0;34m'r'\u001b[0m\u001b[0;34m)\u001b[0m \u001b[0;32mas\u001b[0m \u001b[0mf\u001b[0m\u001b[0;34m:\u001b[0m\u001b[0;34m\u001b[0m\u001b[0;34m\u001b[0m\u001b[0m\n\u001b[0m\u001b[1;32m      2\u001b[0m     \u001b[0mannotations\u001b[0m \u001b[0;34m=\u001b[0m \u001b[0mjson\u001b[0m\u001b[0;34m.\u001b[0m\u001b[0mload\u001b[0m\u001b[0;34m(\u001b[0m\u001b[0mf\u001b[0m\u001b[0;34m)\u001b[0m\u001b[0;34m\u001b[0m\u001b[0;34m\u001b[0m\u001b[0m\n\u001b[1;32m      3\u001b[0m \u001b[0;34m\u001b[0m\u001b[0m\n\u001b[1;32m      4\u001b[0m \u001b[0mrecord_annotation_index\u001b[0m \u001b[0;34m=\u001b[0m \u001b[0;34m{\u001b[0m\u001b[0;34m}\u001b[0m\u001b[0;34m\u001b[0m\u001b[0;34m\u001b[0m\u001b[0m\n\u001b[1;32m      5\u001b[0m \u001b[0;32mfor\u001b[0m \u001b[0mrecord_annotation\u001b[0m \u001b[0;32min\u001b[0m \u001b[0mannotations\u001b[0m\u001b[0;34m[\u001b[0m\u001b[0;34m'record_annotations'\u001b[0m\u001b[0;34m]\u001b[0m\u001b[0;34m:\u001b[0m\u001b[0;34m\u001b[0m\u001b[0;34m\u001b[0m\u001b[0m\n",
      "\u001b[0;31mFileNotFoundError\u001b[0m: [Errno 2] No such file or directory: '/data/data/NonwearCheck/450/Results/annotations.json'"
     ]
    }
   ],
   "source": [
    "with open('/data/data/NonwearCheck/450/Results/annotations.json', 'r') as f:\n",
    "    annotations = json.load(f)\n",
    "\n",
    "record_annotation_index = {}\n",
    "for record_annotation in annotations['record_annotations']:\n",
    "    if record_annotation['id'] not in record_annotation_index:\n",
    "        record_annotation_index[record_annotation['id']] = {}\n",
    "    id = record_annotation['id']\n",
    "    record_annotation.pop('id')\n",
    "    record_annotation_index[id].update(record_annotation)\n",
    "\n",
    "segment_annotation_index = {}\n",
    "for segment_annotation in annotations['segment_annotations']:\n",
    "    if segment_annotation['id'] not in segment_annotation_index:\n",
    "        segment_annotation_index[segment_annotation['id']] = {}\n",
    "    id = segment_annotation['id']\n",
    "    segment_annotation.pop('id')\n",
    "    segment_annotation_index[id].update(segment_annotation)"
   ]
  },
  {
   "cell_type": "code",
   "execution_count": 2,
   "metadata": {},
   "outputs": [],
   "source": [
    "df_feats = pd.read_csv(\"/data/Results/df_feat_ppg_ir.csv\", index_col=None)\n",
    "df_feats = df_feats.iloc[shuffle(range(len(df_feats)), random_state=0), :]\n",
    "\n",
    "df_objects = pd.read_csv(\"/data/Results/df_object_ppg_ir.csv\", index_col=None)"
   ]
  },
  {
   "cell_type": "code",
   "execution_count": 3,
   "metadata": {},
   "outputs": [],
   "source": [
    "feats_cols = [c for c in df_feats.columns if \"ppg\" in c]\n",
    "target_col = \"wear_category_id\""
   ]
  },
  {
   "cell_type": "markdown",
   "metadata": {},
   "source": [
    "## 全数据构建模型"
   ]
  },
  {
   "cell_type": "code",
   "execution_count": 4,
   "metadata": {},
   "outputs": [
    {
     "name": "stdout",
     "output_type": "stream",
     "text": [
      "[11:18:54] WARNING: /xgboost/src/learner.cc:1043: Starting in XGBoost 1.3.0, the default evaluation metric used with the objective 'binary:logistic' was changed from 'error' to 'logloss'. Explicitly set eval_metric if you'd like to restore the old behavior.\n"
     ]
    },
    {
     "data": {
      "text/plain": [
       "0.9800347609073489"
      ]
     },
     "execution_count": 4,
     "metadata": {},
     "output_type": "execute_result"
    }
   ],
   "source": [
    "# 利用xgboost选择前50个特征分析\n",
    "params = {'max_depth': 6, 'objective': 'binary:logistic', \"n_jobs\": -1}\n",
    "num_iter = 20\n",
    "\n",
    "X_cols, y_col = [\n",
    "    'ppg-ir__number_peaks__n_3',\n",
    "    'ppg-ir__number_peaks__n_10',\n",
    "    'ppg-ir__autocorrelation__lag_2',\n",
    "    'ppg-ir__agg_linear_trend__attr_\"intercept\"__chunk_len_50__f_agg_\"max\"',\n",
    "    'ppg-ir__agg_linear_trend__attr_\"stderr\"__chunk_len_10__f_agg_\"mean\"',\n",
    "    'ppg-ir__agg_linear_trend__attr_\"stderr\"__chunk_len_10__f_agg_\"max\"',\n",
    "    'ppg-ir__binned_entropy__max_bins_10',\n",
    "    'ppg-ir__change_quantiles__f_agg_\"var\"__isabs_False__qh_1.0__ql_0.8',\n",
    "    'ppg-ir__change_quantiles__f_agg_\"var\"__isabs_True__qh_1.0__ql_0.8'\n",
    "                       ], target_col\n",
    "\n",
    "X, y = df_feats.loc[:, X_cols].values, df_feats.loc[:, y_col].values\n",
    "\n",
    "# scaler = MinMaxScaler()\n",
    "# X = scaler.fit_transform(X)\n",
    "\n",
    "D_train = xgboost.DMatrix(X, label=y)\n",
    "D_test = xgboost.DMatrix(X, label=y)\n",
    "\n",
    "bst = xgboost.train(params, D_train, num_iter, [(D_train, 'train')], verbose_eval=False)\n",
    "\n",
    "accuracy_score(y, bst.predict(D_test) > 0.6)"
   ]
  },
  {
   "cell_type": "code",
   "execution_count": 5,
   "metadata": {},
   "outputs": [
    {
     "name": "stdout",
     "output_type": "stream",
     "text": [
      "[11:19:03] /workspace/src/compiler/ast_native.cc:44: Using ASTNativeCompiler\n",
      "[11:19:03] /workspace/src/compiler/ast/split.cc:24: Parallel compilation disabled; all member trees will be dumped to a single source file. This may increase compilation time and memory usage.\n",
      "[11:19:03] /workspace/src/c_api/c_api.cc:286: Code generation finished. Writing code to files...\n",
      "[11:19:03] /workspace/src/c_api/c_api.cc:291: Writing file recipe.json...\n",
      "[11:19:03] /workspace/src/c_api/c_api.cc:291: Writing file header.h...\n",
      "[11:19:03] /workspace/src/c_api/c_api.cc:291: Writing file main.c...\n"
     ]
    }
   ],
   "source": [
    "model = treelite.Model.from_xgboost(bst)\n",
    "\n",
    "model.export_srcpkg(platform='unix', toolchain='gcc', pkgpath='./model_20210816_002.zip',\n",
    "                    libname='mymodel.so', verbose=True, params={'quantize': 1})"
   ]
  },
  {
   "cell_type": "markdown",
   "metadata": {},
   "source": [
    "## 验证和C一致性"
   ]
  },
  {
   "cell_type": "code",
   "execution_count": 6,
   "metadata": {},
   "outputs": [],
   "source": [
    "selected_object_ids = [5000]# list(range(3000, 3004))"
   ]
  },
  {
   "cell_type": "markdown",
   "metadata": {},
   "source": [
    "### 待验证数据"
   ]
  },
  {
   "cell_type": "code",
   "execution_count": 7,
   "metadata": {},
   "outputs": [
    {
     "data": {
      "text/plain": [
       "array([30772509, 30771968, 30772071, 30769974, 30767824, 30767310,\n",
       "       30765776, 30760170, 30766321, 30770712, 30777391, 30774933,\n",
       "       30772678, 30769537, 30770674, 30767491, 30766948, 30765284,\n",
       "       30767276, 30766468, 30763870, 30765353, 30763715, 30764813,\n",
       "       30761703, 30765589, 30769382, 30765427, 30766355, 30766574,\n",
       "       30763904, 30762736, 30757326, 30756937, 30756785, 30753626,\n",
       "       30751681, 30754793, 30756625, 30756733, 30755975, 30752563,\n",
       "       30755168, 30764670, 30769493, 30767542, 30768855, 30767946,\n",
       "       30770661, 30767138, 30768031, 30768888, 30767093, 30764657,\n",
       "       30761436, 30758170, 30759585, 30764347, 30761109, 30763490,\n",
       "       30770890, 30769373, 30768695, 30767106, 30765478, 30767227,\n",
       "       30768028, 30769261, 30768398, 30764778, 30763575, 30764121,\n",
       "       30761475, 30765811, 30763316, 30765531, 30771372, 30774921,\n",
       "       30769792, 30772368, 30772622, 30773146, 30770662, 30768613,\n",
       "       30770859, 30770854, 30768113, 30768446, 30767226, 30770070,\n",
       "       30772029, 30770391, 30771591, 30766362, 30774450, 30783416,\n",
       "       30780617, 30784165, 30781844, 30780084, 30782762, 30779342,\n",
       "       30779289, 30776954, 30778636, 30779903, 30775308, 30780275,\n",
       "       30769619, 30772388, 30771251, 30769097, 30774835, 30783792,\n",
       "       30779354, 30780424, 30784561, 30784308, 30783726, 30779938,\n",
       "       30782025, 30782194, 30781519, 30779779, 30782762, 30781421,\n",
       "       30783416, 30783246])"
      ]
     },
     "execution_count": 7,
     "metadata": {},
     "output_type": "execute_result"
    }
   ],
   "source": [
    "selected_object_ids = [10999]\n",
    "mask = np.isin(df_objects['id'], selected_object_ids)\n",
    "mask = np.where(mask)[0]\n",
    "df_objects.loc[mask, 'ppg-ir'].values"
   ]
  },
  {
   "cell_type": "markdown",
   "metadata": {},
   "source": [
    "### 特征一致性"
   ]
  },
  {
   "cell_type": "code",
   "execution_count": 8,
   "metadata": {},
   "outputs": [
    {
     "data": {
      "text/html": [
       "<div>\n",
       "<style scoped>\n",
       "    .dataframe tbody tr th:only-of-type {\n",
       "        vertical-align: middle;\n",
       "    }\n",
       "\n",
       "    .dataframe tbody tr th {\n",
       "        vertical-align: top;\n",
       "    }\n",
       "\n",
       "    .dataframe thead th {\n",
       "        text-align: right;\n",
       "    }\n",
       "</style>\n",
       "<table border=\"1\" class=\"dataframe\">\n",
       "  <thead>\n",
       "    <tr style=\"text-align: right;\">\n",
       "      <th></th>\n",
       "      <th>ppg-ir__number_peaks__n_3</th>\n",
       "      <th>ppg-ir__number_peaks__n_10</th>\n",
       "      <th>ppg-ir__autocorrelation__lag_2</th>\n",
       "      <th>ppg-ir__agg_linear_trend__attr_\"intercept\"__chunk_len_50__f_agg_\"max\"</th>\n",
       "      <th>ppg-ir__agg_linear_trend__attr_\"stderr\"__chunk_len_10__f_agg_\"mean\"</th>\n",
       "      <th>ppg-ir__agg_linear_trend__attr_\"stderr\"__chunk_len_10__f_agg_\"max\"</th>\n",
       "      <th>ppg-ir__binned_entropy__max_bins_10</th>\n",
       "      <th>ppg-ir__change_quantiles__f_agg_\"var\"__isabs_False__qh_1.0__ql_0.8</th>\n",
       "      <th>ppg-ir__change_quantiles__f_agg_\"var\"__isabs_True__qh_1.0__ql_0.8</th>\n",
       "    </tr>\n",
       "  </thead>\n",
       "  <tbody>\n",
       "    <tr>\n",
       "      <th>20999</th>\n",
       "      <td>13.0</td>\n",
       "      <td>7.0</td>\n",
       "      <td>0.825661</td>\n",
       "      <td>25778.454</td>\n",
       "      <td>0.360651</td>\n",
       "      <td>0.365393</td>\n",
       "      <td>2.123031</td>\n",
       "      <td>5.642557</td>\n",
       "      <td>1.797437</td>\n",
       "    </tr>\n",
       "  </tbody>\n",
       "</table>\n",
       "</div>"
      ],
      "text/plain": [
       "       ppg-ir__number_peaks__n_3  ppg-ir__number_peaks__n_10  \\\n",
       "20999                       13.0                         7.0   \n",
       "\n",
       "       ppg-ir__autocorrelation__lag_2  \\\n",
       "20999                        0.825661   \n",
       "\n",
       "       ppg-ir__agg_linear_trend__attr_\"intercept\"__chunk_len_50__f_agg_\"max\"  \\\n",
       "20999                                          25778.454                       \n",
       "\n",
       "       ppg-ir__agg_linear_trend__attr_\"stderr\"__chunk_len_10__f_agg_\"mean\"  \\\n",
       "20999                                           0.360651                     \n",
       "\n",
       "       ppg-ir__agg_linear_trend__attr_\"stderr\"__chunk_len_10__f_agg_\"max\"  \\\n",
       "20999                                           0.365393                    \n",
       "\n",
       "       ppg-ir__binned_entropy__max_bins_10  \\\n",
       "20999                             2.123031   \n",
       "\n",
       "       ppg-ir__change_quantiles__f_agg_\"var\"__isabs_False__qh_1.0__ql_0.8  \\\n",
       "20999                                           5.642557                    \n",
       "\n",
       "       ppg-ir__change_quantiles__f_agg_\"var\"__isabs_True__qh_1.0__ql_0.8  \n",
       "20999                                           1.797437                  "
      ]
     },
     "execution_count": 8,
     "metadata": {},
     "output_type": "execute_result"
    }
   ],
   "source": [
    "feats = df_feats.loc[selected_object_ids, X_cols]\n",
    "feats"
   ]
  },
  {
   "cell_type": "markdown",
   "metadata": {},
   "source": [
    "### 模型一致性"
   ]
  },
  {
   "cell_type": "code",
   "execution_count": 9,
   "metadata": {},
   "outputs": [
    {
     "data": {
      "text/plain": [
       "array([0.02585792], dtype=float32)"
      ]
     },
     "execution_count": 9,
     "metadata": {},
     "output_type": "execute_result"
    }
   ],
   "source": [
    "D = xgboost.DMatrix(feats.values)\n",
    "bst.predict(D)"
   ]
  },
  {
   "cell_type": "code",
   "execution_count": 66,
   "metadata": {},
   "outputs": [],
   "source": [
    "import json\n",
    "import logging\n",
    "\n",
    "_logger = logging.getLogger('nni')"
   ]
  },
  {
   "cell_type": "code",
   "execution_count": 67,
   "metadata": {},
   "outputs": [],
   "source": [
    "_logger.info(\n",
    "            \"Creating graph json, writing to. Visualization enabled.\")"
   ]
  },
  {
   "cell_type": "code",
   "execution_count": null,
   "metadata": {},
   "outputs": [],
   "source": []
  }
 ],
 "metadata": {
  "kernelspec": {
   "display_name": "Python 3",
   "language": "python",
   "name": "python3"
  },
  "language_info": {
   "codemirror_mode": {
    "name": "ipython",
    "version": 3
   },
   "file_extension": ".py",
   "mimetype": "text/x-python",
   "name": "python",
   "nbconvert_exporter": "python",
   "pygments_lexer": "ipython3",
   "version": "3.8.0"
  }
 },
 "nbformat": 4,
 "nbformat_minor": 4
}
