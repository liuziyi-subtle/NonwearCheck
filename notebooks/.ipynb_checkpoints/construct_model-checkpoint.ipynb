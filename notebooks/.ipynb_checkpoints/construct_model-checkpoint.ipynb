{
 "cells": [
  {
   "cell_type": "markdown",
   "metadata": {},
   "source": [
    "## Load Libraries"
   ]
  },
  {
   "cell_type": "code",
   "execution_count": 35,
   "metadata": {},
   "outputs": [],
   "source": [
    "import json\n",
    "from random import randint, sample\n",
    "import pandas as pd\n",
    "import numpy as np\n",
    "import pickle\n",
    "import seaborn as sns\n",
    "import matplotlib.pyplot as plt\n",
    "\n",
    "from sklearn.tree import DecisionTreeClassifier\n",
    "from sklearn.metrics import classification_report\n",
    "from sklearn.linear_model import LogisticRegression\n",
    "from sklearn.preprocessing import StandardScaler\n",
    "from sklearn.pipeline import make_pipeline\n",
    "from sklearn.utils import shuffle\n",
    "from sklearn.svm import SVC\n",
    "from sklearn.metrics import confusion_matrix\n",
    "from sklearn.metrics import accuracy_score\n",
    "from sklearn.metrics import confusion_matrix\n",
    "from sklearn.preprocessing import MinMaxScaler\n",
    "\n",
    "import xgboost\n",
    "import treelite\n",
    "\n",
    "\n",
    "sns.set(style=\"ticks\")\n",
    "np.set_printoptions(suppress=True)\n",
    "\n",
    "pd.set_option('display.max_rows', 150)"
   ]
  },
  {
   "cell_type": "markdown",
   "metadata": {},
   "source": [
    "## Load Data"
   ]
  },
  {
   "cell_type": "code",
   "execution_count": 36,
   "metadata": {},
   "outputs": [
    {
     "ename": "FileNotFoundError",
     "evalue": "[Errno 2] No such file or directory: '/data/data/NonwearCheck/450/Results/annotations.json'",
     "output_type": "error",
     "traceback": [
      "\u001b[0;31m---------------------------------------------------------------------------\u001b[0m",
      "\u001b[0;31mFileNotFoundError\u001b[0m                         Traceback (most recent call last)",
      "\u001b[0;32m<ipython-input-36-cb16c0f7b9bb>\u001b[0m in \u001b[0;36m<module>\u001b[0;34m\u001b[0m\n\u001b[0;32m----> 1\u001b[0;31m \u001b[0;32mwith\u001b[0m \u001b[0mopen\u001b[0m\u001b[0;34m(\u001b[0m\u001b[0;34m'/data/data/NonwearCheck/450/Results/annotations.json'\u001b[0m\u001b[0;34m,\u001b[0m \u001b[0;34m'r'\u001b[0m\u001b[0;34m)\u001b[0m \u001b[0;32mas\u001b[0m \u001b[0mf\u001b[0m\u001b[0;34m:\u001b[0m\u001b[0;34m\u001b[0m\u001b[0;34m\u001b[0m\u001b[0m\n\u001b[0m\u001b[1;32m      2\u001b[0m     \u001b[0mannotations\u001b[0m \u001b[0;34m=\u001b[0m \u001b[0mjson\u001b[0m\u001b[0;34m.\u001b[0m\u001b[0mload\u001b[0m\u001b[0;34m(\u001b[0m\u001b[0mf\u001b[0m\u001b[0;34m)\u001b[0m\u001b[0;34m\u001b[0m\u001b[0;34m\u001b[0m\u001b[0m\n\u001b[1;32m      3\u001b[0m \u001b[0;34m\u001b[0m\u001b[0m\n\u001b[1;32m      4\u001b[0m \u001b[0mrecord_annotation_index\u001b[0m \u001b[0;34m=\u001b[0m \u001b[0;34m{\u001b[0m\u001b[0;34m}\u001b[0m\u001b[0;34m\u001b[0m\u001b[0;34m\u001b[0m\u001b[0m\n\u001b[1;32m      5\u001b[0m \u001b[0;32mfor\u001b[0m \u001b[0mrecord_annotation\u001b[0m \u001b[0;32min\u001b[0m \u001b[0mannotations\u001b[0m\u001b[0;34m[\u001b[0m\u001b[0;34m'record_annotations'\u001b[0m\u001b[0;34m]\u001b[0m\u001b[0;34m:\u001b[0m\u001b[0;34m\u001b[0m\u001b[0;34m\u001b[0m\u001b[0m\n",
      "\u001b[0;31mFileNotFoundError\u001b[0m: [Errno 2] No such file or directory: '/data/data/NonwearCheck/450/Results/annotations.json'"
     ]
    }
   ],
   "source": [
    "with open('/data/data/NonwearCheck/450/Results/annotations.json', 'r') as f:\n",
    "    annotations = json.load(f)\n",
    "\n",
    "record_annotation_index = {}\n",
    "for record_annotation in annotations['record_annotations']:\n",
    "    if record_annotation['id'] not in record_annotation_index:\n",
    "        record_annotation_index[record_annotation['id']] = {}\n",
    "    id = record_annotation['id']\n",
    "    record_annotation.pop('id')\n",
    "    record_annotation_index[id].update(record_annotation)\n",
    "\n",
    "segment_annotation_index = {}\n",
    "for segment_annotation in annotations['segment_annotations']:\n",
    "    if segment_annotation['id'] not in segment_annotation_index:\n",
    "        segment_annotation_index[segment_annotation['id']] = {}\n",
    "    id = segment_annotation['id']\n",
    "    segment_annotation.pop('id')\n",
    "    segment_annotation_index[id].update(segment_annotation)"
   ]
  },
  {
   "cell_type": "code",
   "execution_count": 45,
   "metadata": {},
   "outputs": [],
   "source": [
    "df_feats = pd.read_csv(\"/data/data/NonwearCheck/456/Results/df_feat_ppg_gr.csv\", index_col=None)\n",
    "df_feats = df_feats.iloc[shuffle(range(len(df_feats)), random_state=0), :]\n",
    "\n",
    "df_objects = pd.read_csv(\"/data/data/NonwearCheck/456/Results/df_object_ppg_gr.csv\", index_col=None)"
   ]
  },
  {
   "cell_type": "code",
   "execution_count": 46,
   "metadata": {},
   "outputs": [],
   "source": [
    "feats_cols = [c for c in df_feats.columns if \"ppg\" in c]\n",
    "target_col = \"wear_category_id\""
   ]
  },
  {
   "cell_type": "markdown",
   "metadata": {},
   "source": [
    "## 全数据构建模型"
   ]
  },
  {
   "cell_type": "code",
   "execution_count": 55,
   "metadata": {},
   "outputs": [
    {
     "name": "stdout",
     "output_type": "stream",
     "text": [
      "[00:11:16] WARNING: /xgboost/src/learner.cc:1043: Starting in XGBoost 1.3.0, the default evaluation metric used with the objective 'binary:logistic' was changed from 'error' to 'logloss'. Explicitly set eval_metric if you'd like to restore the old behavior.\n"
     ]
    },
    {
     "data": {
      "text/plain": [
       "0.9844467108618052"
      ]
     },
     "execution_count": 55,
     "metadata": {},
     "output_type": "execute_result"
    }
   ],
   "source": [
    "# 利用xgboost选择前50个特征分析\n",
    "params = {'max_depth': 6, 'objective': 'binary:logistic', \"n_jobs\": -1}\n",
    "num_iter = 20\n",
    "\n",
    "X_cols, y_col = [\n",
    "    'ppg-g__ar_2',\n",
    "    'ppg-g__number_peaks__n_3',\n",
    "    'ppg-g__autocorrelation__lag_4',\n",
    "    'ppg-g__agg_linear_trend__attr_\"stderr\"__chunk_len_5__f_agg_\"var\"',\n",
    "    'ppg-g__agg_linear_trend__attr_\"stderr\"__chunk_len_10__f_agg_\"mean\"',\n",
    "    'ppg-g__binned_entropy__max_bins_10',\n",
    "    'ppg-g__change_quantiles__f_agg_\"mean\"__isabs_True__qh_0.2__ql_0.0',\n",
    "    'ppg-g__change_quantiles__f_agg_\"mean\"__isabs_True__qh_1.0__ql_0.8',\n",
    "    'ppg-g__change_quantiles__f_agg_\"var\"__isabs_True__qh_1.0__ql_0.0',\n",
    "    'ppg-g__ratio_beyond_r_sigma__r_1.5'\n",
    "                       ], target_col\n",
    "\n",
    "X, y = df_feats.loc[:, X_cols].values, df_feats.loc[:, y_col].values\n",
    "\n",
    "# scaler = MinMaxScaler()\n",
    "# X = scaler.fit_transform(X)\n",
    "\n",
    "D_train = xgboost.DMatrix(X, label=y)\n",
    "D_test = xgboost.DMatrix(X, label=y)\n",
    "\n",
    "bst = xgboost.train(params, D_train, num_iter, [(D_train, 'train')], verbose_eval=False)\n",
    "\n",
    "accuracy_score(y, bst.predict(D_test) > 0.6)"
   ]
  },
  {
   "cell_type": "code",
   "execution_count": 40,
   "metadata": {},
   "outputs": [
    {
     "name": "stdout",
     "output_type": "stream",
     "text": [
      "[00:00:27] /workspace/src/compiler/ast_native.cc:44: Using ASTNativeCompiler\n",
      "[00:00:27] /workspace/src/compiler/ast/split.cc:24: Parallel compilation disabled; all member trees will be dumped to a single source file. This may increase compilation time and memory usage.\n",
      "[00:00:27] /workspace/src/c_api/c_api.cc:286: Code generation finished. Writing code to files...\n",
      "[00:00:27] /workspace/src/c_api/c_api.cc:291: Writing file recipe.json...\n",
      "[00:00:27] /workspace/src/c_api/c_api.cc:291: Writing file header.h...\n",
      "[00:00:27] /workspace/src/c_api/c_api.cc:291: Writing file main.c...\n"
     ]
    }
   ],
   "source": [
    "model = treelite.Model.from_xgboost(bst)\n",
    "\n",
    "model.export_srcpkg(platform='unix', toolchain='gcc', pkgpath='./model_20210526_003.zip',\n",
    "                    libname='mymodel.so', verbose=True, params={'quantize': 1})"
   ]
  },
  {
   "cell_type": "markdown",
   "metadata": {},
   "source": [
    "## 验证和C一致性"
   ]
  },
  {
   "cell_type": "code",
   "execution_count": 50,
   "metadata": {},
   "outputs": [],
   "source": [
    "selected_object_ids = [10000]# list(range(3000, 3004))"
   ]
  },
  {
   "cell_type": "markdown",
   "metadata": {},
   "source": [
    "### 待验证数据"
   ]
  },
  {
   "cell_type": "code",
   "execution_count": 56,
   "metadata": {},
   "outputs": [
    {
     "data": {
      "text/plain": [
       "array([1537.003, 1536.67 , 1534.375, 1531.927, 1530.826, 1530.186,\n",
       "       1529.709, 1529.811, 1529.965, 1529.974, 1529.086, 1527.508,\n",
       "       1526.126, 1525.273, 1525.188, 1524.573, 1524.906, 1525.929,\n",
       "       1528.779, 1528.463, 1526.484, 1524.428, 1522.884, 1521.638,\n",
       "       1520.581, 1520.964, 1521.195, 1520.802, 1520.188, 1519.736,\n",
       "       1518.576, 1518.26 , 1517.517, 1517.27 , 1517.091, 1517.253,\n",
       "       1518.072, 1521.732, 1522.15 , 1519.924, 1516.818, 1515.453,\n",
       "       1514.251, 1514.651, 1515.41 , 1516.528, 1516.741, 1516.391,\n",
       "       1516.289, 1516.383, 1517.595, 1519.002, 1520.419, 1520.93 ,\n",
       "       1522.193, 1524.487, 1529.249, 1532.387, 1532.303, 1531.757,\n",
       "       1532.098, 1532.865, 1534.052, 1535.698, 1537.865, 1538.572,\n",
       "       1539.46 , 1540.271, 1540.091, 1540.023, 1540.364, 1540.783,\n",
       "       1540.356, 1540.518, 1540.1  , 1541.201, 1542.881, 1542.062,\n",
       "       1539.196, 1537.08 , 1536.065, 1534.785, 1534.205, 1534.683,\n",
       "       1534.444, 1533.454, 1531.714, 1530.732, 1529.589, 1529.094,\n",
       "       1528.651, 1528.634, 1529.18 , 1532.209, 1532.055, 1529.973,\n",
       "       1527.977, 1526.962, 1526.655, 1525.964, 1526.382, 1527.251,\n",
       "       1527.508, 1526.911, 1525.358, 1523.797, 1523.353, 1523.029,\n",
       "       1522.15 , 1522.218, 1523.097, 1527.841, 1527.525, 1524.991,\n",
       "       1523.199, 1521.877, 1520.538, 1519.309, 1519.872, 1520.589,\n",
       "       1521.084, 1520.99 , 1520.196, 1519.096, 1519.113, 1519.352,\n",
       "       1519.864, 1520.572])"
      ]
     },
     "execution_count": 56,
     "metadata": {},
     "output_type": "execute_result"
    }
   ],
   "source": [
    "selected_object_ids = [10000]\n",
    "mask = np.isin(df_objects['id'], selected_object_ids)\n",
    "mask = np.where(mask)[0]\n",
    "df_objects.loc[mask, 'ppg-g'].values"
   ]
  },
  {
   "cell_type": "markdown",
   "metadata": {},
   "source": [
    "### 特征一致性"
   ]
  },
  {
   "cell_type": "code",
   "execution_count": 57,
   "metadata": {},
   "outputs": [
    {
     "data": {
      "text/html": [
       "<div>\n",
       "<style scoped>\n",
       "    .dataframe tbody tr th:only-of-type {\n",
       "        vertical-align: middle;\n",
       "    }\n",
       "\n",
       "    .dataframe tbody tr th {\n",
       "        vertical-align: top;\n",
       "    }\n",
       "\n",
       "    .dataframe thead th {\n",
       "        text-align: right;\n",
       "    }\n",
       "</style>\n",
       "<table border=\"1\" class=\"dataframe\">\n",
       "  <thead>\n",
       "    <tr style=\"text-align: right;\">\n",
       "      <th></th>\n",
       "      <th>ppg-g__ar_2</th>\n",
       "      <th>ppg-g__number_peaks__n_3</th>\n",
       "      <th>ppg-g__autocorrelation__lag_4</th>\n",
       "      <th>ppg-g__agg_linear_trend__attr_\"stderr\"__chunk_len_5__f_agg_\"var\"</th>\n",
       "      <th>ppg-g__agg_linear_trend__attr_\"stderr\"__chunk_len_10__f_agg_\"mean\"</th>\n",
       "      <th>ppg-g__binned_entropy__max_bins_10</th>\n",
       "      <th>ppg-g__change_quantiles__f_agg_\"mean\"__isabs_True__qh_0.2__ql_0.0</th>\n",
       "      <th>ppg-g__change_quantiles__f_agg_\"mean\"__isabs_True__qh_1.0__ql_0.8</th>\n",
       "      <th>ppg-g__change_quantiles__f_agg_\"var\"__isabs_True__qh_1.0__ql_0.0</th>\n",
       "      <th>ppg-g__ratio_beyond_r_sigma__r_1.5</th>\n",
       "    </tr>\n",
       "  </thead>\n",
       "  <tbody>\n",
       "    <tr>\n",
       "      <th>10000</th>\n",
       "      <td>0.218493</td>\n",
       "      <td>11.0</td>\n",
       "      <td>0.867216</td>\n",
       "      <td>0.058401</td>\n",
       "      <td>0.563899</td>\n",
       "      <td>2.241891</td>\n",
       "      <td>0.599045</td>\n",
       "      <td>0.959833</td>\n",
       "      <td>0.828256</td>\n",
       "      <td>0.140625</td>\n",
       "    </tr>\n",
       "  </tbody>\n",
       "</table>\n",
       "</div>"
      ],
      "text/plain": [
       "       ppg-g__ar_2  ppg-g__number_peaks__n_3  ppg-g__autocorrelation__lag_4  \\\n",
       "10000     0.218493                      11.0                       0.867216   \n",
       "\n",
       "       ppg-g__agg_linear_trend__attr_\"stderr\"__chunk_len_5__f_agg_\"var\"  \\\n",
       "10000                                           0.058401                  \n",
       "\n",
       "       ppg-g__agg_linear_trend__attr_\"stderr\"__chunk_len_10__f_agg_\"mean\"  \\\n",
       "10000                                           0.563899                    \n",
       "\n",
       "       ppg-g__binned_entropy__max_bins_10  \\\n",
       "10000                            2.241891   \n",
       "\n",
       "       ppg-g__change_quantiles__f_agg_\"mean\"__isabs_True__qh_0.2__ql_0.0  \\\n",
       "10000                                           0.599045                   \n",
       "\n",
       "       ppg-g__change_quantiles__f_agg_\"mean\"__isabs_True__qh_1.0__ql_0.8  \\\n",
       "10000                                           0.959833                   \n",
       "\n",
       "       ppg-g__change_quantiles__f_agg_\"var\"__isabs_True__qh_1.0__ql_0.0  \\\n",
       "10000                                           0.828256                  \n",
       "\n",
       "       ppg-g__ratio_beyond_r_sigma__r_1.5  \n",
       "10000                            0.140625  "
      ]
     },
     "execution_count": 57,
     "metadata": {},
     "output_type": "execute_result"
    }
   ],
   "source": [
    "feats = df_feats.loc[selected_object_ids, X_cols]\n",
    "feats"
   ]
  },
  {
   "cell_type": "markdown",
   "metadata": {},
   "source": [
    "### 模型一致性"
   ]
  },
  {
   "cell_type": "code",
   "execution_count": 58,
   "metadata": {},
   "outputs": [
    {
     "data": {
      "text/plain": [
       "array([0.00882716], dtype=float32)"
      ]
     },
     "execution_count": 58,
     "metadata": {},
     "output_type": "execute_result"
    }
   ],
   "source": [
    "D = xgboost.DMatrix(feats.values)\n",
    "bst.predict(D)"
   ]
  },
  {
   "cell_type": "code",
   "execution_count": 66,
   "metadata": {},
   "outputs": [],
   "source": [
    "import json\n",
    "import logging\n",
    "\n",
    "_logger = logging.getLogger('nni')"
   ]
  },
  {
   "cell_type": "code",
   "execution_count": 67,
   "metadata": {},
   "outputs": [],
   "source": [
    "_logger.info(\n",
    "            \"Creating graph json, writing to. Visualization enabled.\")"
   ]
  },
  {
   "cell_type": "code",
   "execution_count": null,
   "metadata": {},
   "outputs": [],
   "source": []
  }
 ],
 "metadata": {
  "kernelspec": {
   "display_name": "Python 3",
   "language": "python",
   "name": "python3"
  },
  "language_info": {
   "codemirror_mode": {
    "name": "ipython",
    "version": 3
   },
   "file_extension": ".py",
   "mimetype": "text/x-python",
   "name": "python",
   "nbconvert_exporter": "python",
   "pygments_lexer": "ipython3",
   "version": "3.8.0"
  }
 },
 "nbformat": 4,
 "nbformat_minor": 4
}
