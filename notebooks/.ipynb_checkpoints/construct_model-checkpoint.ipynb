{
 "cells": [
  {
   "cell_type": "markdown",
   "metadata": {},
   "source": [
    "## Load Libraries"
   ]
  },
  {
   "cell_type": "code",
   "execution_count": 1,
   "metadata": {},
   "outputs": [],
   "source": [
    "import json\n",
    "from random import randint, sample\n",
    "import pandas as pd\n",
    "import numpy as np\n",
    "import pickle\n",
    "import seaborn as sns\n",
    "import matplotlib.pyplot as plt\n",
    "\n",
    "from sklearn.tree import DecisionTreeClassifier\n",
    "from sklearn.metrics import classification_report\n",
    "from sklearn.linear_model import LogisticRegression\n",
    "from sklearn.preprocessing import StandardScaler\n",
    "from sklearn.pipeline import make_pipeline\n",
    "from sklearn.utils import shuffle\n",
    "from sklearn.svm import SVC\n",
    "from sklearn.metrics import confusion_matrix\n",
    "from sklearn.metrics import accuracy_score\n",
    "from sklearn.metrics import confusion_matrix\n",
    "from sklearn.preprocessing import MinMaxScaler\n",
    "\n",
    "import xgboost\n",
    "import treelite\n",
    "\n",
    "\n",
    "sns.set(style=\"ticks\")\n",
    "np.set_printoptions(suppress=True)\n",
    "\n",
    "pd.set_option('display.max_rows', 150)"
   ]
  },
  {
   "cell_type": "markdown",
   "metadata": {},
   "source": [
    "## Load Data"
   ]
  },
  {
   "cell_type": "code",
   "execution_count": 2,
   "metadata": {},
   "outputs": [],
   "source": [
    "with open('/data-temp/data/nonwear-check/O/results/annotations.json', 'r') as f:\n",
    "    annotations = json.load(f)\n",
    "\n",
    "record_annotation_index = {}\n",
    "for record_annotation in annotations['record_annotations']:\n",
    "    if record_annotation['id'] not in record_annotation_index:\n",
    "        record_annotation_index[record_annotation['id']] = {}\n",
    "    id = record_annotation['id']\n",
    "    record_annotation.pop('id')\n",
    "    record_annotation_index[id].update(record_annotation)\n",
    "\n",
    "segment_annotation_index = {}\n",
    "for segment_annotation in annotations['segment_annotations']:\n",
    "    if segment_annotation['id'] not in segment_annotation_index:\n",
    "        segment_annotation_index[segment_annotation['id']] = {}\n",
    "    id = segment_annotation['id']\n",
    "    segment_annotation.pop('id')\n",
    "    segment_annotation_index[id].update(segment_annotation)"
   ]
  },
  {
   "cell_type": "code",
   "execution_count": 3,
   "metadata": {},
   "outputs": [],
   "source": [
    "df_features = pd.read_csv(\"/data-temp/data/nonwear-check/O/results/features__ppg-g__object_length_36__cut_500.csv\", index_col=None)\n",
    "df_features = df_features.iloc[shuffle(range(len(df_features)), random_state=0), :]\n",
    "\n",
    "df_objects = pd.read_csv(\"/data-temp/data/nonwear-check/O/results/objects__ppg-g__object_length_36__cut_500.csv\", index_col=None)"
   ]
  },
  {
   "cell_type": "code",
   "execution_count": 4,
   "metadata": {},
   "outputs": [],
   "source": [
    "feat_cols = [c for c in df_features.columns if \"ppg\" in c]\n",
    "target_col  = \"wear_category_id\""
   ]
  },
  {
   "cell_type": "markdown",
   "metadata": {},
   "source": [
    "## 全数据构建模型"
   ]
  },
  {
   "cell_type": "code",
   "execution_count": 52,
   "metadata": {},
   "outputs": [
    {
     "data": {
      "text/plain": [
       "0.9840496233938857"
      ]
     },
     "execution_count": 52,
     "metadata": {},
     "output_type": "execute_result"
    }
   ],
   "source": [
    "# 利用xgboost选择前50个特征分析\n",
    "params = {'max_depth': 3, 'objective':'binary:logistic'}\n",
    "num_iter = 5\n",
    "\n",
    "X_cols, y_col = ['ppg__autocorrelation__lag_1', 'ppg__agg_linear_trend__attr_\"intercept\"__chunk_len_10__f_agg_\"mean\"'], target_col\n",
    "\n",
    "X, y = df_features.loc[:, X_cols].values, df_features.loc[:, y_col].values\n",
    "\n",
    "# scaler = MinMaxScaler()\n",
    "# X = scaler.fit_transform(X)\n",
    "\n",
    "D_train = xgboost.DMatrix(X, label=y)\n",
    "D_test = xgboost.DMatrix(X, label=y)\n",
    "\n",
    "bst = xgboost.train(params, D_train, num_iter, [(D_train, 'train')], verbose_eval=False)\n",
    "\n",
    "accuracy_score(y, bst.predict(D_test) > 0.7)"
   ]
  },
  {
   "cell_type": "code",
   "execution_count": 53,
   "metadata": {},
   "outputs": [
    {
     "name": "stdout",
     "output_type": "stream",
     "text": [
      "[14:55:47] /io/treelite/src/frontend/xgboost.cc:359: Global bias of the model: 0.5\n",
      "[14:55:47] /io/treelite/src/frontend/xgboost.cc:397: gbm_param_.num_feature = 0\n",
      "[14:55:47] /io/treelite/src/frontend/xgboost.cc:398: gbm_param_.num_output_group = 0\n",
      "[14:55:47] /io/treelite/src/compiler/ast_native.cc:22: Using ASTNativeCompiler\n",
      "[14:55:47] /io/treelite/src/compiler/ast/split.cc:10: Parallel compilation disabled; all member trees will be dumped to a single source file. This may increase compilation time and memory usage.\n",
      "[14:55:47] /io/treelite/src/c_api/c_api.cc:297: Code generation finished. Writing code to files...\n",
      "[14:55:47] /io/treelite/src/c_api/c_api.cc:314: Writing file recipe.json...\n",
      "[14:55:47] /io/treelite/src/c_api/c_api.cc:314: Writing file main.c...\n",
      "[14:55:47] /io/treelite/src/c_api/c_api.cc:314: Writing file header.h...\n"
     ]
    }
   ],
   "source": [
    "model = treelite.Model.from_xgboost(bst)\n",
    "\n",
    "model.export_srcpkg(platform='unix', toolchain='gcc', pkgpath='./mymodel.zip',\n",
    "                    libname='mymodel.so', verbose=True)"
   ]
  },
  {
   "cell_type": "markdown",
   "metadata": {},
   "source": [
    "## 验证和C一致性"
   ]
  },
  {
   "cell_type": "code",
   "execution_count": 41,
   "metadata": {},
   "outputs": [],
   "source": [
    "selected_object_ids = list(range(50000, 50004))"
   ]
  },
  {
   "cell_type": "markdown",
   "metadata": {},
   "source": [
    "### 待验证数据"
   ]
  },
  {
   "cell_type": "code",
   "execution_count": 42,
   "metadata": {},
   "outputs": [
    {
     "data": {
      "text/plain": [
       "array([1099232., 1098752., 1098944., 1099328., 1099680., 1097216.,\n",
       "       1095264., 1093984., 1093952., 1095296., 1096256., 1097600.,\n",
       "       1098176., 1099040., 1100224., 1099520., 1088288., 1078272.,\n",
       "       1074176., 1073056., 1073600., 1074720., 1074464., 1072992.,\n",
       "       1071040., 1070400., 1070752., 1072000., 1073344., 1075360.,\n",
       "       1077024., 1078304., 1079424., 1080928., 1082368., 1074880.,\n",
       "       1063584., 1058368., 1056864., 1057760., 1059136., 1059968.,\n",
       "       1060000., 1059008., 1058144., 1058272., 1059392., 1061440.,\n",
       "       1062976., 1064960., 1066624., 1068000., 1069792., 1071680.,\n",
       "       1067648., 1057280., 1051296., 1050112., 1051488., 1053024.,\n",
       "       1054464., 1055392., 1053792., 1053664., 1053920., 1055456.,\n",
       "       1057088., 1059392., 1061760., 1063488., 1066080., 1067968.,\n",
       "       1069952., 1066240., 1056736., 1051008., 1049664., 1051168.,\n",
       "       1053056., 1055232., 1056384., 1055424., 1055264., 1055488.,\n",
       "       1056992., 1059104., 1061344., 1063904., 1066304., 1068832.,\n",
       "       1070112., 1072896., 1070688., 1059936., 1054176., 1053824.,\n",
       "       1054880., 1056608., 1059232., 1060448., 1060384., 1059808.,\n",
       "       1060288., 1062080., 1064160., 1066592., 1069056., 1071232.,\n",
       "       1073376., 1075680., 1077952., 1072480., 1063392., 1059072.,\n",
       "       1058944., 1060512., 1062752., 1065216., 1065696., 1065824.,\n",
       "       1065184., 1066144., 1067712., 1069760., 1071808., 1073984.,\n",
       "       1076512., 1078368., 1080768., 1079392., 1070048., 1063936.,\n",
       "       1062784., 1063392., 1065504., 1067712., 1068928., 1069088.,\n",
       "       1068448., 1068160., 1069408., 1071200., 1073728., 1076288.])"
      ]
     },
     "execution_count": 42,
     "metadata": {},
     "output_type": "execute_result"
    }
   ],
   "source": [
    "mask = np.isin(df_objects['id'], selected_object_ids)\n",
    "mask = np.where(mask)[0]\n",
    "df_objects.loc[mask, 'ppg'].values"
   ]
  },
  {
   "cell_type": "markdown",
   "metadata": {},
   "source": [
    "### 特征一致性"
   ]
  },
  {
   "cell_type": "code",
   "execution_count": 46,
   "metadata": {},
   "outputs": [
    {
     "data": {
      "text/html": [
       "<div>\n",
       "<style scoped>\n",
       "    .dataframe tbody tr th:only-of-type {\n",
       "        vertical-align: middle;\n",
       "    }\n",
       "\n",
       "    .dataframe tbody tr th {\n",
       "        vertical-align: top;\n",
       "    }\n",
       "\n",
       "    .dataframe thead th {\n",
       "        text-align: right;\n",
       "    }\n",
       "</style>\n",
       "<table border=\"1\" class=\"dataframe\">\n",
       "  <thead>\n",
       "    <tr style=\"text-align: right;\">\n",
       "      <th></th>\n",
       "      <th>ppg__autocorrelation__lag_1</th>\n",
       "      <th>ppg__agg_linear_trend__attr_\"intercept\"__chunk_len_10__f_agg_\"mean\"</th>\n",
       "    </tr>\n",
       "  </thead>\n",
       "  <tbody>\n",
       "    <tr>\n",
       "      <td>5000</td>\n",
       "      <td>0.957756</td>\n",
       "      <td>-3904.277637</td>\n",
       "    </tr>\n",
       "    <tr>\n",
       "      <td>5001</td>\n",
       "      <td>0.866809</td>\n",
       "      <td>-3939.830713</td>\n",
       "    </tr>\n",
       "    <tr>\n",
       "      <td>5002</td>\n",
       "      <td>0.822571</td>\n",
       "      <td>-3942.463708</td>\n",
       "    </tr>\n",
       "    <tr>\n",
       "      <td>5003</td>\n",
       "      <td>0.847003</td>\n",
       "      <td>-3932.429968</td>\n",
       "    </tr>\n",
       "  </tbody>\n",
       "</table>\n",
       "</div>"
      ],
      "text/plain": [
       "      ppg__autocorrelation__lag_1  \\\n",
       "5000                     0.957756   \n",
       "5001                     0.866809   \n",
       "5002                     0.822571   \n",
       "5003                     0.847003   \n",
       "\n",
       "      ppg__agg_linear_trend__attr_\"intercept\"__chunk_len_10__f_agg_\"mean\"  \n",
       "5000                                       -3904.277637                    \n",
       "5001                                       -3939.830713                    \n",
       "5002                                       -3942.463708                    \n",
       "5003                                       -3932.429968                    "
      ]
     },
     "execution_count": 46,
     "metadata": {},
     "output_type": "execute_result"
    }
   ],
   "source": [
    "features = df_features.loc[selected_object_ids, X_cols]\n",
    "features"
   ]
  },
  {
   "cell_type": "markdown",
   "metadata": {},
   "source": [
    "### 模型一致性"
   ]
  },
  {
   "cell_type": "code",
   "execution_count": 49,
   "metadata": {},
   "outputs": [
    {
     "data": {
      "text/plain": [
       "array([0.12708697, 0.12708697, 0.12708697, 0.12708697], dtype=float32)"
      ]
     },
     "execution_count": 49,
     "metadata": {},
     "output_type": "execute_result"
    }
   ],
   "source": [
    "D = xgboost.DMatrix(features.values)\n",
    "bst.predict(D)"
   ]
  },
  {
   "cell_type": "code",
   "execution_count": null,
   "metadata": {},
   "outputs": [],
   "source": []
  }
 ],
 "metadata": {
  "kernelspec": {
   "display_name": "Python 3",
   "language": "python",
   "name": "python3"
  },
  "language_info": {
   "codemirror_mode": {
    "name": "ipython",
    "version": 3
   },
   "file_extension": ".py",
   "mimetype": "text/x-python",
   "name": "python",
   "nbconvert_exporter": "python",
   "pygments_lexer": "ipython3",
   "version": "3.6.9"
  }
 },
 "nbformat": 4,
 "nbformat_minor": 4
}
