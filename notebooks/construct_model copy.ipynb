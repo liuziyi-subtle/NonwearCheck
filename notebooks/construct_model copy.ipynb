{
 "cells": [
  {
   "cell_type": "markdown",
   "metadata": {},
   "source": [
    "## Load Libraries"
   ]
  },
  {
   "cell_type": "code",
   "execution_count": 1,
   "metadata": {},
   "outputs": [],
   "source": [
    "import json\n",
    "from random import randint, sample\n",
    "import pandas as pd\n",
    "import numpy as np\n",
    "import pickle\n",
    "import seaborn as sns\n",
    "import matplotlib.pyplot as plt\n",
    "\n",
    "from sklearn.tree import DecisionTreeClassifier\n",
    "from sklearn.metrics import classification_report\n",
    "from sklearn.linear_model import LogisticRegression\n",
    "from sklearn.preprocessing import StandardScaler\n",
    "from sklearn.pipeline import make_pipeline\n",
    "from sklearn.utils import shuffle\n",
    "from sklearn.svm import SVC\n",
    "from sklearn.metrics import confusion_matrix\n",
    "from sklearn.metrics import accuracy_score\n",
    "from sklearn.metrics import confusion_matrix\n",
    "from sklearn.preprocessing import MinMaxScaler\n",
    "\n",
    "import xgboost\n",
    "import treelite\n",
    "\n",
    "\n",
    "sns.set(style=\"ticks\")\n",
    "np.set_printoptions(suppress=True)\n",
    "\n",
    "pd.set_option('display.max_rows', 150)"
   ]
  },
  {
   "cell_type": "markdown",
   "metadata": {},
   "source": [
    "## Load Data"
   ]
  },
  {
   "cell_type": "code",
   "execution_count": 2,
   "metadata": {},
   "outputs": [],
   "source": [
    "with open('/data-temp/data/nonwear-check/O/results/annotations.json', 'r') as f:\n",
    "    annotations = json.load(f)\n",
    "\n",
    "record_annotation_index = {}\n",
    "for record_annotation in annotations['record_annotations']:\n",
    "    if record_annotation['id'] not in record_annotation_index:\n",
    "        record_annotation_index[record_annotation['id']] = {}\n",
    "    id = record_annotation['id']\n",
    "    record_annotation.pop('id')\n",
    "    record_annotation_index[id].update(record_annotation)\n",
    "\n",
    "segment_annotation_index = {}\n",
    "for segment_annotation in annotations['segment_annotations']:\n",
    "    if segment_annotation['id'] not in segment_annotation_index:\n",
    "        segment_annotation_index[segment_annotation['id']] = {}\n",
    "    id = segment_annotation['id']\n",
    "    segment_annotation.pop('id')\n",
    "    segment_annotation_index[id].update(segment_annotation)"
   ]
  },
  {
   "cell_type": "code",
   "execution_count": 3,
   "metadata": {},
   "outputs": [],
   "source": [
    "df_features = pd.read_csv(\"/data-temp/data/nonwear-check/O/results/features__ppg-g__object_length_36__cut_500.csv\", index_col=None)\n",
    "df_features = df_features.iloc[shuffle(range(len(df_features)), random_state=0), :]\n",
    "\n",
    "df_objects = pd.read_csv(\"/data-temp/data/nonwear-check/O/results/objects__ppg-g__object_length_36__cut_500.csv\", index_col=None)"
   ]
  },
  {
   "cell_type": "code",
   "execution_count": 4,
   "metadata": {},
   "outputs": [],
   "source": [
    "feat_cols = [c for c in df_features.columns if \"ppg\" in c]\n",
    "target_col  = \"wear_category_id\""
   ]
  },
  {
   "cell_type": "markdown",
   "metadata": {},
   "source": [
    "## 全数据构建模型"
   ]
  },
  {
   "cell_type": "code",
   "execution_count": 52,
   "metadata": {},
   "outputs": [
    {
     "data": {
      "text/plain": [
       "0.9840496233938857"
      ]
     },
     "execution_count": 52,
     "metadata": {},
     "output_type": "execute_result"
    }
   ],
   "source": [
    "# 利用xgboost选择前50个特征分析\n",
    "params = {'max_depth': 3, 'objective':'binary:logistic'}\n",
    "num_iter = 5\n",
    "\n",
    "X_cols, y_col = ['ppg__autocorrelation__lag_1', 'ppg__agg_linear_trend__attr_\"intercept\"__chunk_len_10__f_agg_\"mean\"'], target_col\n",
    "\n",
    "X, y = df_features.loc[:, X_cols].values, df_features.loc[:, y_col].values\n",
    "\n",
    "# scaler = MinMaxScaler()\n",
    "# X = scaler.fit_transform(X)\n",
    "\n",
    "D_train = xgboost.DMatrix(X, label=y)\n",
    "D_test = xgboost.DMatrix(X, label=y)\n",
    "\n",
    "bst = xgboost.train(params, D_train, num_iter, [(D_train, 'train')], verbose_eval=False)\n",
    "\n",
    "accuracy_score(y, bst.predict(D_test) > 0.7)"
   ]
  },
  {
   "cell_type": "code",
   "execution_count": 53,
   "metadata": {},
   "outputs": [
    {
     "name": "stdout",
     "output_type": "stream",
     "text": [
      "[14:55:47] /io/treelite/src/frontend/xgboost.cc:359: Global bias of the model: 0.5\n",
      "[14:55:47] /io/treelite/src/frontend/xgboost.cc:397: gbm_param_.num_feature = 0\n",
      "[14:55:47] /io/treelite/src/frontend/xgboost.cc:398: gbm_param_.num_output_group = 0\n",
      "[14:55:47] /io/treelite/src/compiler/ast_native.cc:22: Using ASTNativeCompiler\n",
      "[14:55:47] /io/treelite/src/compiler/ast/split.cc:10: Parallel compilation disabled; all member trees will be dumped to a single source file. This may increase compilation time and memory usage.\n",
      "[14:55:47] /io/treelite/src/c_api/c_api.cc:297: Code generation finished. Writing code to files...\n",
      "[14:55:47] /io/treelite/src/c_api/c_api.cc:314: Writing file recipe.json...\n",
      "[14:55:47] /io/treelite/src/c_api/c_api.cc:314: Writing file main.c...\n",
      "[14:55:47] /io/treelite/src/c_api/c_api.cc:314: Writing file header.h...\n"
     ]
    }
   ],
   "source": [
    "model = treelite.Model.from_xgboost(bst)\n",
    "\n",
    "model.export_srcpkg(platform='unix', toolchain='gcc', pkgpath='./mymodel.zip',\n",
    "                    libname='mymodel.so', verbose=True)"
   ]
  },
  {
   "cell_type": "markdown",
   "metadata": {},
   "source": [
    "## 验证和C一致性"
   ]
  },
  {
   "cell_type": "code",
   "execution_count": 56,
   "metadata": {},
   "outputs": [],
   "source": [
    "selected_object_ids = list(range(3000, 3004))"
   ]
  },
  {
   "cell_type": "markdown",
   "metadata": {},
   "source": [
    "### 待验证数据"
   ]
  },
  {
   "cell_type": "code",
   "execution_count": 57,
   "metadata": {},
   "outputs": [
    {
     "data": {
      "text/plain": [
       "array([-10704.,   8296.,  25344.,  22336.,   7984.,  11760.,  31592.,\n",
       "        56560.,  38152.,  16032.,  -3736., -15560.,  -5024.,  11384.,\n",
       "        27976.,  25224.,   9552.,   9760.,  26888.,  59856.,  40656.,\n",
       "        13760.,  -5528., -10416.,  -8096.,   5400.,  22408.,  26104.,\n",
       "        12704.,   5664.,  15096.,  47472.,  52752.,   8616.,    240.,\n",
       "        -7880.,  -2416.,   7048.,  17784.,  22384.,  12800.,   7040.,\n",
       "        20160.,  54536.,  49720.,   2904.,  -7576.,  -6168.,  -3080.,\n",
       "         5280.,  19464.,  22368.,  12024.,   8048.,  29176.,  56640.,\n",
       "        37696.,   3384.,  -7432., -15200.,   -976.,  17608.,  25264.,\n",
       "        13840.,   6336.,  22440.,  54904.,  43920.,   8360.,   1232.,\n",
       "       -10072.,  -5664.,   7528.,  19664.,  23592.,  15656.,   5472.,\n",
       "         9032.,  42168.,  39936.,  26288.,   3024.,  -9408.,  -1152.,\n",
       "        11760.,  22608.,  25176.,  11976.,   2456.,  24552.,  56632.,\n",
       "        24976.,  -4720.,  -5400.,  -6248.,   6800.,  17776.,  30144.,\n",
       "        18760.,   5496.,   3496.,  40328.,  53152.,  18816.,   2136.,\n",
       "        -3912.,  -6088.,   1064.,  16336.,  28696.,  20984.,  11224.,\n",
       "        25912.,  78648.,  42552.,  22864.,  16472.,   -992.,  -6528.,\n",
       "         3632.,  26272.,  31824.,  14704.,  10600.,  37320.,  70096.,\n",
       "        39080.,  17624.,   4448., -12088., -13672.,    -64.,  18656.,\n",
       "        26352.,  11224.,  12632.,  48472.,  69448.,  23832.,  11552.,\n",
       "        -2392., -17680., -11208.,   5408.])"
      ]
     },
     "execution_count": 57,
     "metadata": {},
     "output_type": "execute_result"
    }
   ],
   "source": [
    "mask = np.isin(df_objects['id'], selected_object_ids)\n",
    "mask = np.where(mask)[0]\n",
    "df_objects.loc[mask, 'ppg'].values"
   ]
  },
  {
   "cell_type": "markdown",
   "metadata": {},
   "source": [
    "### 特征一致性"
   ]
  },
  {
   "cell_type": "code",
   "execution_count": 58,
   "metadata": {},
   "outputs": [
    {
     "data": {
      "text/html": [
       "<div>\n",
       "<style scoped>\n",
       "    .dataframe tbody tr th:only-of-type {\n",
       "        vertical-align: middle;\n",
       "    }\n",
       "\n",
       "    .dataframe tbody tr th {\n",
       "        vertical-align: top;\n",
       "    }\n",
       "\n",
       "    .dataframe thead th {\n",
       "        text-align: right;\n",
       "    }\n",
       "</style>\n",
       "<table border=\"1\" class=\"dataframe\">\n",
       "  <thead>\n",
       "    <tr style=\"text-align: right;\">\n",
       "      <th></th>\n",
       "      <th>ppg__autocorrelation__lag_1</th>\n",
       "      <th>ppg__agg_linear_trend__attr_\"intercept\"__chunk_len_10__f_agg_\"mean\"</th>\n",
       "    </tr>\n",
       "  </thead>\n",
       "  <tbody>\n",
       "    <tr>\n",
       "      <td>3000</td>\n",
       "      <td>0.561048</td>\n",
       "      <td>-4982.482520</td>\n",
       "    </tr>\n",
       "    <tr>\n",
       "      <td>3001</td>\n",
       "      <td>0.569601</td>\n",
       "      <td>-4983.175513</td>\n",
       "    </tr>\n",
       "    <tr>\n",
       "      <td>3002</td>\n",
       "      <td>0.497899</td>\n",
       "      <td>-4980.859497</td>\n",
       "    </tr>\n",
       "    <tr>\n",
       "      <td>3003</td>\n",
       "      <td>0.590755</td>\n",
       "      <td>-4970.489111</td>\n",
       "    </tr>\n",
       "  </tbody>\n",
       "</table>\n",
       "</div>"
      ],
      "text/plain": [
       "      ppg__autocorrelation__lag_1  \\\n",
       "3000                     0.561048   \n",
       "3001                     0.569601   \n",
       "3002                     0.497899   \n",
       "3003                     0.590755   \n",
       "\n",
       "      ppg__agg_linear_trend__attr_\"intercept\"__chunk_len_10__f_agg_\"mean\"  \n",
       "3000                                       -4982.482520                    \n",
       "3001                                       -4983.175513                    \n",
       "3002                                       -4980.859497                    \n",
       "3003                                       -4970.489111                    "
      ]
     },
     "execution_count": 58,
     "metadata": {},
     "output_type": "execute_result"
    }
   ],
   "source": [
    "features = df_features.loc[selected_object_ids, X_cols]\n",
    "features"
   ]
  },
  {
   "cell_type": "markdown",
   "metadata": {},
   "source": [
    "### 模型一致性"
   ]
  },
  {
   "cell_type": "code",
   "execution_count": 59,
   "metadata": {},
   "outputs": [
    {
     "data": {
      "text/plain": [
       "array([0.87677187, 0.87677187, 0.8768642 , 0.87677187], dtype=float32)"
      ]
     },
     "execution_count": 59,
     "metadata": {},
     "output_type": "execute_result"
    }
   ],
   "source": [
    "D = xgboost.DMatrix(features.values)\n",
    "bst.predict(D)"
   ]
  },
  {
   "cell_type": "code",
   "execution_count": 66,
   "metadata": {},
   "outputs": [],
   "source": [
    "import json\n",
    "import logging\n",
    "\n",
    "_logger = logging.getLogger('nni')"
   ]
  },
  {
   "cell_type": "code",
   "execution_count": 67,
   "metadata": {},
   "outputs": [],
   "source": [
    "_logger.info(\n",
    "            \"Creating graph json, writing to. Visualization enabled.\")"
   ]
  },
  {
   "cell_type": "code",
   "execution_count": null,
   "metadata": {},
   "outputs": [],
   "source": []
  }
 ],
 "metadata": {
  "kernelspec": {
   "display_name": "Python 3",
   "language": "python",
   "name": "python3"
  },
  "language_info": {
   "codemirror_mode": {
    "name": "ipython",
    "version": 3
   },
   "file_extension": ".py",
   "mimetype": "text/x-python",
   "name": "python",
   "nbconvert_exporter": "python",
   "pygments_lexer": "ipython3",
   "version": "3.6.9"
  }
 },
 "nbformat": 4,
 "nbformat_minor": 4
}
