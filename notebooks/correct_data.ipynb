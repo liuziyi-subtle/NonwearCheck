{
 "metadata": {
  "language_info": {
   "codemirror_mode": {
    "name": "ipython",
    "version": 3
   },
   "file_extension": ".py",
   "mimetype": "text/x-python",
   "name": "python",
   "nbconvert_exporter": "python",
   "pygments_lexer": "ipython3",
   "version": "3.8.5-final"
  },
  "orig_nbformat": 2,
  "kernelspec": {
   "name": "python3",
   "display_name": "Python 3",
   "language": "python"
  }
 },
 "nbformat": 4,
 "nbformat_minor": 2,
 "cells": [
  {
   "cell_type": "code",
   "execution_count": 1,
   "metadata": {},
   "outputs": [],
   "source": [
    "import pandas as pd\n",
    "import numpy as np\n",
    "from glob import glob"
   ]
  },
  {
   "source": [
    "## 修改文件后缀名错误"
   ],
   "cell_type": "markdown",
   "metadata": {}
  },
  {
   "cell_type": "code",
   "execution_count": 17,
   "metadata": {},
   "outputs": [],
   "source": [
    "record_paths = glob(\"/Users/liuziyi/Documents/Lifesense/Data/NonwearCheck/439/Raw/20210113/Records-0/*.csv\")\n",
    "reference_paths = glob(\"/Users/liuziyi/Documents/Lifesense/Data/NonwearCheck/439/Raw/20210113/References-0/*.jpg\")"
   ]
  },
  {
   "cell_type": "code",
   "execution_count": 18,
   "metadata": {},
   "outputs": [],
   "source": [
    "# 文件名命名修正\n",
    "import shutil\n",
    "for rp_src in record_paths:\n",
    "    if \".csv.csv\" in rp_src:\n",
    "        rp_dest = rp_src.replace(\".csv.csv\", \".csv\")\n",
    "    elif \".jpg.csv\" in rp_src:\n",
    "        rp_dest = rp_src.replace(\".jpg.csv\", \".csv\")\n",
    "    else:\n",
    "        rp_dest = rp_src\n",
    "    rp_dest = rp_dest.replace(\"Records-0\", \"Records\")\n",
    "    shutil.copy(rp_src, rp_dest)"
   ]
  },
  {
   "cell_type": "code",
   "execution_count": 19,
   "metadata": {
    "tags": []
   },
   "outputs": [],
   "source": [
    "for rp_src in reference_paths:\n",
    "    if \".jpg.jpg\" in rp_src:\n",
    "        rp_dest = rp_src.replace(\".jpg.jpg\", \".jpg\")\n",
    "    elif \"jpg.jpg\" in rp_src:\n",
    "        rp_dest = rp_src.replace(\"jpg.jpg\", \".jpg\")\n",
    "    else:\n",
    "        rp_dest = rp_src\n",
    "    rp_dest = rp_dest.replace(\"References-0\", \"References\")\n",
    "    shutil.copy(rp_src, rp_dest)"
   ]
  },
  {
   "source": [
    "## 移动文件到Results/Records和Results/References"
   ],
   "cell_type": "markdown",
   "metadata": {}
  },
  {
   "cell_type": "code",
   "execution_count": 24,
   "metadata": {},
   "outputs": [],
   "source": [
    "record_paths = glob(\"/Users/liuziyi/Documents/Lifesense/Data/NonwearCheck/439/Raw/**/Records/*.csv\")\n",
    "reference_paths = glob(\"/Users/liuziyi/Documents/Lifesense/Data/NonwearCheck/439/Raw/**/References/*.jpg\")"
   ]
  },
  {
   "cell_type": "code",
   "execution_count": 27,
   "metadata": {},
   "outputs": [],
   "source": [
    "dir_dst = \"/Users/liuziyi/Documents/Lifesense/Data/NonwearCheck/439/Results/Records\"\n",
    "for rp_src in record_paths:\n",
    "    rn = rp_src.split(\"/\")[-1]\n",
    "    rp_dst = os.path.join(dir_dst, rn)\n",
    "    shutil.copy(rp_src, rp_dst)"
   ]
  },
  {
   "cell_type": "code",
   "execution_count": 28,
   "metadata": {},
   "outputs": [],
   "source": [
    "dir_dst = \"/Users/liuziyi/Documents/Lifesense/Data/NonwearCheck/439/Results/References\"\n",
    "for rp_src in reference_paths:\n",
    "    rn = rp_src.split(\"/\")[-1]\n",
    "    rp_dst = os.path.join(dir_dst, rn)\n",
    "    shutil.copy(rp_src, rp_dst)"
   ]
  },
  {
   "cell_type": "code",
   "execution_count": 23,
   "metadata": {},
   "outputs": [
    {
     "output_type": "execute_result",
     "data": {
      "text/plain": [
       "'/Users/liuziyi/Documents/Lifesense/Data/NonwearCheck/439/Raw/20201230/Records/napkin_20201230_008.csv'"
      ]
     },
     "metadata": {},
     "execution_count": 23
    }
   ],
   "source": [
    "rp_src"
   ]
  },
  {
   "cell_type": "code",
   "execution_count": 12,
   "metadata": {},
   "outputs": [],
   "source": [
    "data_descriptions = pd.read_csv(\"/Users/liuziyi/Documents/Lifesense/Data/NonwearCheck/450/Raw/20201226/manual_info.csv\")"
   ]
  },
  {
   "cell_type": "code",
   "execution_count": 13,
   "metadata": {},
   "outputs": [],
   "source": [
    "record_dir = \"/Users/liuziyi/Documents/Lifesensse/Data/NonwearCheck/450/Raw/20201226/Records-1\""
   ]
  },
  {
   "cell_type": "code",
   "execution_count": 16,
   "metadata": {
    "tags": []
   },
   "outputs": [],
   "source": [
    "for index, series in data_descriptions.iterrows():\n",
    "    try:\n",
    "        filename = series[\"file_name\"]\n",
    "        filepath = os.path.join(record_dir, filename)\n",
    "        record = pd.read_csv(filepath, header=None, error_bad_lines=False, engine=\"python\", skipfooter=1)\n",
    "        if series[\"light\"] == \"green\":\n",
    "            record = record.loc[record[0] != 4]\n",
    "            record.loc[record[0] == 1, 0] = 161\n",
    "        else:\n",
    "            record = record[record[0] != 1]\n",
    "            record.loc[record[0] == 4, 0] = 164\n",
    "        filepath = filepath.replace(\"Records-1\", \"Records\")\n",
    "        record.to_csv(filepath, header=None, index=False)\n",
    "    except:\n",
    "        print(\"no: \",  series)"
   ]
  },
  {
   "cell_type": "code",
   "execution_count": 6,
   "metadata": {},
   "outputs": [],
   "source": [
    "record_paths_src = glob(\"/Users/liuziyi/Documents/Lifesense/Data/NonwearCheck/450/Raw/*/Records/*.csv\")\n",
    "record_dir_dst = \"/Users/liuziyi/Documents/Lifesense/Data/NonwearCheck/450/Results/Records\""
   ]
  },
  {
   "cell_type": "code",
   "execution_count": 8,
   "metadata": {},
   "outputs": [],
   "source": [
    "import shutil\n",
    "for rp_src in record_paths:\n",
    "    rp_dst = os.path.join(record_dir_dst, rp_src.split(\"/\")[-1])\n",
    "    shutil.copy(rp_src, rp_dst)"
   ]
  },
  {
   "cell_type": "code",
   "execution_count": 11,
   "metadata": {},
   "outputs": [],
   "source": [
    "reference_paths_src = glob(\"/Users/liuziyi/Documents/Lifesense/Data/NonwearCheck/450/Raw/*/References/*.jpg\")\n",
    "reference_dir_dst = \"/Users/liuziyi/Documents/Lifesense/Data/NonwearCheck/450/Results/References\""
   ]
  },
  {
   "cell_type": "code",
   "execution_count": 12,
   "metadata": {},
   "outputs": [],
   "source": [
    "for rp_src in reference_paths_src:\n",
    "    rp_dst = os.path.join(reference_dir_dst, rp_src.split(\"/\")[-1])\n",
    "    shutil.copy(rp_src, rp_dst)"
   ]
  },
  {
   "cell_type": "code",
   "execution_count": 54,
   "metadata": {
    "tags": []
   },
   "outputs": [],
   "source": [
    "record = pd.read_csv(\"/Users/liuziyi/Documents/Lifesense/Programming/450项目佩戴检测数据采集表_20201130-2/rawdata/20201130133.csv.csv\", header=None, error_bad_lines=False, engine=\"python\")"
   ]
  },
  {
   "cell_type": "code",
   "execution_count": 55,
   "metadata": {},
   "outputs": [
    {
     "output_type": "execute_result",
     "data": {
      "text/plain": [
       "[<matplotlib.lines.Line2D at 0x11696d730>]"
      ]
     },
     "metadata": {},
     "execution_count": 55
    },
    {
     "output_type": "display_data",
     "data": {
      "text/plain": "<Figure size 432x288 with 1 Axes>",
      "image/svg+xml": "<?xml version=\"1.0\" encoding=\"utf-8\" standalone=\"no\"?>\n<!DOCTYPE svg PUBLIC \"-//W3C//DTD SVG 1.1//EN\"\n  \"http://www.w3.org/Graphics/SVG/1.1/DTD/svg11.dtd\">\n<!-- Created with matplotlib (https://matplotlib.org/) -->\n<svg height=\"248.518125pt\" version=\"1.1\" viewBox=\"0 0 388.0125 248.518125\" width=\"388.0125pt\" xmlns=\"http://www.w3.org/2000/svg\" xmlns:xlink=\"http://www.w3.org/1999/xlink\">\n <metadata>\n  <rdf:RDF xmlns:cc=\"http://creativecommons.org/ns#\" xmlns:dc=\"http://purl.org/dc/elements/1.1/\" xmlns:rdf=\"http://www.w3.org/1999/02/22-rdf-syntax-ns#\">\n   <cc:Work>\n    <dc:type rdf:resource=\"http://purl.org/dc/dcmitype/StillImage\"/>\n    <dc:date>2020-12-17T12:51:58.857835</dc:date>\n    <dc:format>image/svg+xml</dc:format>\n    <dc:creator>\n     <cc:Agent>\n      <dc:title>Matplotlib v3.3.1, https://matplotlib.org/</dc:title>\n     </cc:Agent>\n    </dc:creator>\n   </cc:Work>\n  </rdf:RDF>\n </metadata>\n <defs>\n  <style type=\"text/css\">*{stroke-linecap:butt;stroke-linejoin:round;}</style>\n </defs>\n <g id=\"figure_1\">\n  <g id=\"patch_1\">\n   <path d=\"M 0 248.518125 \nL 388.0125 248.518125 \nL 388.0125 0 \nL 0 0 \nz\n\" style=\"fill:none;\"/>\n  </g>\n  <g id=\"axes_1\">\n   <g id=\"patch_2\">\n    <path d=\"M 46.0125 224.64 \nL 380.8125 224.64 \nL 380.8125 7.2 \nL 46.0125 7.2 \nz\n\" style=\"fill:#ffffff;\"/>\n   </g>\n   <g id=\"matplotlib.axis_1\">\n    <g id=\"xtick_1\">\n     <g id=\"line2d_1\">\n      <defs>\n       <path d=\"M 0 0 \nL 0 3.5 \n\" id=\"m634a4679b1\" style=\"stroke:#000000;stroke-width:0.8;\"/>\n      </defs>\n      <g>\n       <use style=\"stroke:#000000;stroke-width:0.8;\" x=\"61.230682\" xlink:href=\"#m634a4679b1\" y=\"224.64\"/>\n      </g>\n     </g>\n     <g id=\"text_1\">\n      <!-- 0 -->\n      <g transform=\"translate(58.049432 239.238438)scale(0.1 -0.1)\">\n       <defs>\n        <path d=\"M 31.78125 66.40625 \nQ 24.171875 66.40625 20.328125 58.90625 \nQ 16.5 51.421875 16.5 36.375 \nQ 16.5 21.390625 20.328125 13.890625 \nQ 24.171875 6.390625 31.78125 6.390625 \nQ 39.453125 6.390625 43.28125 13.890625 \nQ 47.125 21.390625 47.125 36.375 \nQ 47.125 51.421875 43.28125 58.90625 \nQ 39.453125 66.40625 31.78125 66.40625 \nz\nM 31.78125 74.21875 \nQ 44.046875 74.21875 50.515625 64.515625 \nQ 56.984375 54.828125 56.984375 36.375 \nQ 56.984375 17.96875 50.515625 8.265625 \nQ 44.046875 -1.421875 31.78125 -1.421875 \nQ 19.53125 -1.421875 13.0625 8.265625 \nQ 6.59375 17.96875 6.59375 36.375 \nQ 6.59375 54.828125 13.0625 64.515625 \nQ 19.53125 74.21875 31.78125 74.21875 \nz\n\" id=\"DejaVuSans-48\"/>\n       </defs>\n       <use xlink:href=\"#DejaVuSans-48\"/>\n      </g>\n     </g>\n    </g>\n    <g id=\"xtick_2\">\n     <g id=\"line2d_2\">\n      <g>\n       <use style=\"stroke:#000000;stroke-width:0.8;\" x=\"122.225399\" xlink:href=\"#m634a4679b1\" y=\"224.64\"/>\n      </g>\n     </g>\n     <g id=\"text_2\">\n      <!-- 100 -->\n      <g transform=\"translate(112.681649 239.238438)scale(0.1 -0.1)\">\n       <defs>\n        <path d=\"M 12.40625 8.296875 \nL 28.515625 8.296875 \nL 28.515625 63.921875 \nL 10.984375 60.40625 \nL 10.984375 69.390625 \nL 28.421875 72.90625 \nL 38.28125 72.90625 \nL 38.28125 8.296875 \nL 54.390625 8.296875 \nL 54.390625 0 \nL 12.40625 0 \nz\n\" id=\"DejaVuSans-49\"/>\n       </defs>\n       <use xlink:href=\"#DejaVuSans-49\"/>\n       <use x=\"63.623047\" xlink:href=\"#DejaVuSans-48\"/>\n       <use x=\"127.246094\" xlink:href=\"#DejaVuSans-48\"/>\n      </g>\n     </g>\n    </g>\n    <g id=\"xtick_3\">\n     <g id=\"line2d_3\">\n      <g>\n       <use style=\"stroke:#000000;stroke-width:0.8;\" x=\"183.220115\" xlink:href=\"#m634a4679b1\" y=\"224.64\"/>\n      </g>\n     </g>\n     <g id=\"text_3\">\n      <!-- 200 -->\n      <g transform=\"translate(173.676365 239.238438)scale(0.1 -0.1)\">\n       <defs>\n        <path d=\"M 19.1875 8.296875 \nL 53.609375 8.296875 \nL 53.609375 0 \nL 7.328125 0 \nL 7.328125 8.296875 \nQ 12.9375 14.109375 22.625 23.890625 \nQ 32.328125 33.6875 34.8125 36.53125 \nQ 39.546875 41.84375 41.421875 45.53125 \nQ 43.3125 49.21875 43.3125 52.78125 \nQ 43.3125 58.59375 39.234375 62.25 \nQ 35.15625 65.921875 28.609375 65.921875 \nQ 23.96875 65.921875 18.8125 64.3125 \nQ 13.671875 62.703125 7.8125 59.421875 \nL 7.8125 69.390625 \nQ 13.765625 71.78125 18.9375 73 \nQ 24.125 74.21875 28.421875 74.21875 \nQ 39.75 74.21875 46.484375 68.546875 \nQ 53.21875 62.890625 53.21875 53.421875 \nQ 53.21875 48.921875 51.53125 44.890625 \nQ 49.859375 40.875 45.40625 35.40625 \nQ 44.1875 33.984375 37.640625 27.21875 \nQ 31.109375 20.453125 19.1875 8.296875 \nz\n\" id=\"DejaVuSans-50\"/>\n       </defs>\n       <use xlink:href=\"#DejaVuSans-50\"/>\n       <use x=\"63.623047\" xlink:href=\"#DejaVuSans-48\"/>\n       <use x=\"127.246094\" xlink:href=\"#DejaVuSans-48\"/>\n      </g>\n     </g>\n    </g>\n    <g id=\"xtick_4\">\n     <g id=\"line2d_4\">\n      <g>\n       <use style=\"stroke:#000000;stroke-width:0.8;\" x=\"244.214832\" xlink:href=\"#m634a4679b1\" y=\"224.64\"/>\n      </g>\n     </g>\n     <g id=\"text_4\">\n      <!-- 300 -->\n      <g transform=\"translate(234.671082 239.238438)scale(0.1 -0.1)\">\n       <defs>\n        <path d=\"M 40.578125 39.3125 \nQ 47.65625 37.796875 51.625 33 \nQ 55.609375 28.21875 55.609375 21.1875 \nQ 55.609375 10.40625 48.1875 4.484375 \nQ 40.765625 -1.421875 27.09375 -1.421875 \nQ 22.515625 -1.421875 17.65625 -0.515625 \nQ 12.796875 0.390625 7.625 2.203125 \nL 7.625 11.71875 \nQ 11.71875 9.328125 16.59375 8.109375 \nQ 21.484375 6.890625 26.8125 6.890625 \nQ 36.078125 6.890625 40.9375 10.546875 \nQ 45.796875 14.203125 45.796875 21.1875 \nQ 45.796875 27.640625 41.28125 31.265625 \nQ 36.765625 34.90625 28.71875 34.90625 \nL 20.21875 34.90625 \nL 20.21875 43.015625 \nL 29.109375 43.015625 \nQ 36.375 43.015625 40.234375 45.921875 \nQ 44.09375 48.828125 44.09375 54.296875 \nQ 44.09375 59.90625 40.109375 62.90625 \nQ 36.140625 65.921875 28.71875 65.921875 \nQ 24.65625 65.921875 20.015625 65.03125 \nQ 15.375 64.15625 9.8125 62.3125 \nL 9.8125 71.09375 \nQ 15.4375 72.65625 20.34375 73.4375 \nQ 25.25 74.21875 29.59375 74.21875 \nQ 40.828125 74.21875 47.359375 69.109375 \nQ 53.90625 64.015625 53.90625 55.328125 \nQ 53.90625 49.265625 50.4375 45.09375 \nQ 46.96875 40.921875 40.578125 39.3125 \nz\n\" id=\"DejaVuSans-51\"/>\n       </defs>\n       <use xlink:href=\"#DejaVuSans-51\"/>\n       <use x=\"63.623047\" xlink:href=\"#DejaVuSans-48\"/>\n       <use x=\"127.246094\" xlink:href=\"#DejaVuSans-48\"/>\n      </g>\n     </g>\n    </g>\n    <g id=\"xtick_5\">\n     <g id=\"line2d_5\">\n      <g>\n       <use style=\"stroke:#000000;stroke-width:0.8;\" x=\"305.209549\" xlink:href=\"#m634a4679b1\" y=\"224.64\"/>\n      </g>\n     </g>\n     <g id=\"text_5\">\n      <!-- 400 -->\n      <g transform=\"translate(295.665799 239.238438)scale(0.1 -0.1)\">\n       <defs>\n        <path d=\"M 37.796875 64.3125 \nL 12.890625 25.390625 \nL 37.796875 25.390625 \nz\nM 35.203125 72.90625 \nL 47.609375 72.90625 \nL 47.609375 25.390625 \nL 58.015625 25.390625 \nL 58.015625 17.1875 \nL 47.609375 17.1875 \nL 47.609375 0 \nL 37.796875 0 \nL 37.796875 17.1875 \nL 4.890625 17.1875 \nL 4.890625 26.703125 \nz\n\" id=\"DejaVuSans-52\"/>\n       </defs>\n       <use xlink:href=\"#DejaVuSans-52\"/>\n       <use x=\"63.623047\" xlink:href=\"#DejaVuSans-48\"/>\n       <use x=\"127.246094\" xlink:href=\"#DejaVuSans-48\"/>\n      </g>\n     </g>\n    </g>\n    <g id=\"xtick_6\">\n     <g id=\"line2d_6\">\n      <g>\n       <use style=\"stroke:#000000;stroke-width:0.8;\" x=\"366.204265\" xlink:href=\"#m634a4679b1\" y=\"224.64\"/>\n      </g>\n     </g>\n     <g id=\"text_6\">\n      <!-- 500 -->\n      <g transform=\"translate(356.660515 239.238438)scale(0.1 -0.1)\">\n       <defs>\n        <path d=\"M 10.796875 72.90625 \nL 49.515625 72.90625 \nL 49.515625 64.59375 \nL 19.828125 64.59375 \nL 19.828125 46.734375 \nQ 21.96875 47.46875 24.109375 47.828125 \nQ 26.265625 48.1875 28.421875 48.1875 \nQ 40.625 48.1875 47.75 41.5 \nQ 54.890625 34.8125 54.890625 23.390625 \nQ 54.890625 11.625 47.5625 5.09375 \nQ 40.234375 -1.421875 26.90625 -1.421875 \nQ 22.3125 -1.421875 17.546875 -0.640625 \nQ 12.796875 0.140625 7.71875 1.703125 \nL 7.71875 11.625 \nQ 12.109375 9.234375 16.796875 8.0625 \nQ 21.484375 6.890625 26.703125 6.890625 \nQ 35.15625 6.890625 40.078125 11.328125 \nQ 45.015625 15.765625 45.015625 23.390625 \nQ 45.015625 31 40.078125 35.4375 \nQ 35.15625 39.890625 26.703125 39.890625 \nQ 22.75 39.890625 18.8125 39.015625 \nQ 14.890625 38.140625 10.796875 36.28125 \nz\n\" id=\"DejaVuSans-53\"/>\n       </defs>\n       <use xlink:href=\"#DejaVuSans-53\"/>\n       <use x=\"63.623047\" xlink:href=\"#DejaVuSans-48\"/>\n       <use x=\"127.246094\" xlink:href=\"#DejaVuSans-48\"/>\n      </g>\n     </g>\n    </g>\n   </g>\n   <g id=\"matplotlib.axis_2\">\n    <g id=\"ytick_1\">\n     <g id=\"line2d_7\">\n      <defs>\n       <path d=\"M 0 0 \nL -3.5 0 \n\" id=\"m6dc5333630\" style=\"stroke:#000000;stroke-width:0.8;\"/>\n      </defs>\n      <g>\n       <use style=\"stroke:#000000;stroke-width:0.8;\" x=\"46.0125\" xlink:href=\"#m6dc5333630\" y=\"204.305658\"/>\n      </g>\n     </g>\n     <g id=\"text_7\">\n      <!-- 48000 -->\n      <g transform=\"translate(7.2 208.104876)scale(0.1 -0.1)\">\n       <defs>\n        <path d=\"M 31.78125 34.625 \nQ 24.75 34.625 20.71875 30.859375 \nQ 16.703125 27.09375 16.703125 20.515625 \nQ 16.703125 13.921875 20.71875 10.15625 \nQ 24.75 6.390625 31.78125 6.390625 \nQ 38.8125 6.390625 42.859375 10.171875 \nQ 46.921875 13.96875 46.921875 20.515625 \nQ 46.921875 27.09375 42.890625 30.859375 \nQ 38.875 34.625 31.78125 34.625 \nz\nM 21.921875 38.8125 \nQ 15.578125 40.375 12.03125 44.71875 \nQ 8.5 49.078125 8.5 55.328125 \nQ 8.5 64.0625 14.71875 69.140625 \nQ 20.953125 74.21875 31.78125 74.21875 \nQ 42.671875 74.21875 48.875 69.140625 \nQ 55.078125 64.0625 55.078125 55.328125 \nQ 55.078125 49.078125 51.53125 44.71875 \nQ 48 40.375 41.703125 38.8125 \nQ 48.828125 37.15625 52.796875 32.3125 \nQ 56.78125 27.484375 56.78125 20.515625 \nQ 56.78125 9.90625 50.3125 4.234375 \nQ 43.84375 -1.421875 31.78125 -1.421875 \nQ 19.734375 -1.421875 13.25 4.234375 \nQ 6.78125 9.90625 6.78125 20.515625 \nQ 6.78125 27.484375 10.78125 32.3125 \nQ 14.796875 37.15625 21.921875 38.8125 \nz\nM 18.3125 54.390625 \nQ 18.3125 48.734375 21.84375 45.5625 \nQ 25.390625 42.390625 31.78125 42.390625 \nQ 38.140625 42.390625 41.71875 45.5625 \nQ 45.3125 48.734375 45.3125 54.390625 \nQ 45.3125 60.0625 41.71875 63.234375 \nQ 38.140625 66.40625 31.78125 66.40625 \nQ 25.390625 66.40625 21.84375 63.234375 \nQ 18.3125 60.0625 18.3125 54.390625 \nz\n\" id=\"DejaVuSans-56\"/>\n       </defs>\n       <use xlink:href=\"#DejaVuSans-52\"/>\n       <use x=\"63.623047\" xlink:href=\"#DejaVuSans-56\"/>\n       <use x=\"127.246094\" xlink:href=\"#DejaVuSans-48\"/>\n       <use x=\"190.869141\" xlink:href=\"#DejaVuSans-48\"/>\n       <use x=\"254.492188\" xlink:href=\"#DejaVuSans-48\"/>\n      </g>\n     </g>\n    </g>\n    <g id=\"ytick_2\">\n     <g id=\"line2d_8\">\n      <g>\n       <use style=\"stroke:#000000;stroke-width:0.8;\" x=\"46.0125\" xlink:href=\"#m6dc5333630\" y=\"174.616152\"/>\n      </g>\n     </g>\n     <g id=\"text_8\">\n      <!-- 48500 -->\n      <g transform=\"translate(7.2 178.415371)scale(0.1 -0.1)\">\n       <use xlink:href=\"#DejaVuSans-52\"/>\n       <use x=\"63.623047\" xlink:href=\"#DejaVuSans-56\"/>\n       <use x=\"127.246094\" xlink:href=\"#DejaVuSans-53\"/>\n       <use x=\"190.869141\" xlink:href=\"#DejaVuSans-48\"/>\n       <use x=\"254.492188\" xlink:href=\"#DejaVuSans-48\"/>\n      </g>\n     </g>\n    </g>\n    <g id=\"ytick_3\">\n     <g id=\"line2d_9\">\n      <g>\n       <use style=\"stroke:#000000;stroke-width:0.8;\" x=\"46.0125\" xlink:href=\"#m6dc5333630\" y=\"144.926647\"/>\n      </g>\n     </g>\n     <g id=\"text_9\">\n      <!-- 49000 -->\n      <g transform=\"translate(7.2 148.725866)scale(0.1 -0.1)\">\n       <defs>\n        <path d=\"M 10.984375 1.515625 \nL 10.984375 10.5 \nQ 14.703125 8.734375 18.5 7.8125 \nQ 22.3125 6.890625 25.984375 6.890625 \nQ 35.75 6.890625 40.890625 13.453125 \nQ 46.046875 20.015625 46.78125 33.40625 \nQ 43.953125 29.203125 39.59375 26.953125 \nQ 35.25 24.703125 29.984375 24.703125 \nQ 19.046875 24.703125 12.671875 31.3125 \nQ 6.296875 37.9375 6.296875 49.421875 \nQ 6.296875 60.640625 12.9375 67.421875 \nQ 19.578125 74.21875 30.609375 74.21875 \nQ 43.265625 74.21875 49.921875 64.515625 \nQ 56.59375 54.828125 56.59375 36.375 \nQ 56.59375 19.140625 48.40625 8.859375 \nQ 40.234375 -1.421875 26.421875 -1.421875 \nQ 22.703125 -1.421875 18.890625 -0.6875 \nQ 15.09375 0.046875 10.984375 1.515625 \nz\nM 30.609375 32.421875 \nQ 37.25 32.421875 41.125 36.953125 \nQ 45.015625 41.5 45.015625 49.421875 \nQ 45.015625 57.28125 41.125 61.84375 \nQ 37.25 66.40625 30.609375 66.40625 \nQ 23.96875 66.40625 20.09375 61.84375 \nQ 16.21875 57.28125 16.21875 49.421875 \nQ 16.21875 41.5 20.09375 36.953125 \nQ 23.96875 32.421875 30.609375 32.421875 \nz\n\" id=\"DejaVuSans-57\"/>\n       </defs>\n       <use xlink:href=\"#DejaVuSans-52\"/>\n       <use x=\"63.623047\" xlink:href=\"#DejaVuSans-57\"/>\n       <use x=\"127.246094\" xlink:href=\"#DejaVuSans-48\"/>\n       <use x=\"190.869141\" xlink:href=\"#DejaVuSans-48\"/>\n       <use x=\"254.492188\" xlink:href=\"#DejaVuSans-48\"/>\n      </g>\n     </g>\n    </g>\n    <g id=\"ytick_4\">\n     <g id=\"line2d_10\">\n      <g>\n       <use style=\"stroke:#000000;stroke-width:0.8;\" x=\"46.0125\" xlink:href=\"#m6dc5333630\" y=\"115.237141\"/>\n      </g>\n     </g>\n     <g id=\"text_10\">\n      <!-- 49500 -->\n      <g transform=\"translate(7.2 119.03636)scale(0.1 -0.1)\">\n       <use xlink:href=\"#DejaVuSans-52\"/>\n       <use x=\"63.623047\" xlink:href=\"#DejaVuSans-57\"/>\n       <use x=\"127.246094\" xlink:href=\"#DejaVuSans-53\"/>\n       <use x=\"190.869141\" xlink:href=\"#DejaVuSans-48\"/>\n       <use x=\"254.492188\" xlink:href=\"#DejaVuSans-48\"/>\n      </g>\n     </g>\n    </g>\n    <g id=\"ytick_5\">\n     <g id=\"line2d_11\">\n      <g>\n       <use style=\"stroke:#000000;stroke-width:0.8;\" x=\"46.0125\" xlink:href=\"#m6dc5333630\" y=\"85.547636\"/>\n      </g>\n     </g>\n     <g id=\"text_11\">\n      <!-- 50000 -->\n      <g transform=\"translate(7.2 89.346855)scale(0.1 -0.1)\">\n       <use xlink:href=\"#DejaVuSans-53\"/>\n       <use x=\"63.623047\" xlink:href=\"#DejaVuSans-48\"/>\n       <use x=\"127.246094\" xlink:href=\"#DejaVuSans-48\"/>\n       <use x=\"190.869141\" xlink:href=\"#DejaVuSans-48\"/>\n       <use x=\"254.492188\" xlink:href=\"#DejaVuSans-48\"/>\n      </g>\n     </g>\n    </g>\n    <g id=\"ytick_6\">\n     <g id=\"line2d_12\">\n      <g>\n       <use style=\"stroke:#000000;stroke-width:0.8;\" x=\"46.0125\" xlink:href=\"#m6dc5333630\" y=\"55.85813\"/>\n      </g>\n     </g>\n     <g id=\"text_12\">\n      <!-- 50500 -->\n      <g transform=\"translate(7.2 59.657349)scale(0.1 -0.1)\">\n       <use xlink:href=\"#DejaVuSans-53\"/>\n       <use x=\"63.623047\" xlink:href=\"#DejaVuSans-48\"/>\n       <use x=\"127.246094\" xlink:href=\"#DejaVuSans-53\"/>\n       <use x=\"190.869141\" xlink:href=\"#DejaVuSans-48\"/>\n       <use x=\"254.492188\" xlink:href=\"#DejaVuSans-48\"/>\n      </g>\n     </g>\n    </g>\n    <g id=\"ytick_7\">\n     <g id=\"line2d_13\">\n      <g>\n       <use style=\"stroke:#000000;stroke-width:0.8;\" x=\"46.0125\" xlink:href=\"#m6dc5333630\" y=\"26.168625\"/>\n      </g>\n     </g>\n     <g id=\"text_13\">\n      <!-- 51000 -->\n      <g transform=\"translate(7.2 29.967844)scale(0.1 -0.1)\">\n       <use xlink:href=\"#DejaVuSans-53\"/>\n       <use x=\"63.623047\" xlink:href=\"#DejaVuSans-49\"/>\n       <use x=\"127.246094\" xlink:href=\"#DejaVuSans-48\"/>\n       <use x=\"190.869141\" xlink:href=\"#DejaVuSans-48\"/>\n       <use x=\"254.492188\" xlink:href=\"#DejaVuSans-48\"/>\n      </g>\n     </g>\n    </g>\n   </g>\n   <g id=\"line2d_14\">\n    <path clip-path=\"url(#p5158869ec6)\" d=\"M 61.230682 165.590543 \nL 61.840629 161.968423 \nL 62.450576 159.177609 \nL 63.060523 163.749793 \nL 63.67047 169.509557 \nL 64.280418 172.419129 \nL 64.890365 172.95354 \nL 65.500312 173.072298 \nL 66.110259 172.834782 \nL 66.720206 171.944097 \nL 67.330153 171.706581 \nL 67.940101 171.112791 \nL 68.550048 169.92521 \nL 69.159995 168.025082 \nL 70.379889 160.840222 \nL 71.599784 151.280201 \nL 72.209731 146.232985 \nL 74.039572 134.297804 \nL 74.649519 135.12911 \nL 75.259467 138.15744 \nL 75.869414 139.048125 \nL 76.479361 138.394956 \nL 77.089308 138.15744 \nL 78.309202 138.513714 \nL 79.529097 139.641915 \nL 80.139044 139.93881 \nL 80.748991 139.582536 \nL 81.358938 137.860545 \nL 82.578833 131.625748 \nL 83.18878 131.625748 \nL 83.798727 131.863264 \nL 84.408674 130.616305 \nL 85.018621 130.378789 \nL 85.628569 130.438168 \nL 86.238516 136.376069 \nL 86.848463 143.56093 \nL 87.45841 148.014355 \nL 88.068357 150.152 \nL 88.678304 151.102064 \nL 89.288252 151.102064 \nL 89.898199 151.33958 \nL 90.508146 151.873991 \nL 91.118093 151.992749 \nL 91.72804 151.280201 \nL 92.337987 149.676968 \nL 92.947935 147.479944 \nL 94.777776 138.038682 \nL 95.99767 130.616305 \nL 96.607618 125.984742 \nL 97.217565 125.865984 \nL 97.827512 131.091337 \nL 98.437459 135.188489 \nL 99.047406 136.613585 \nL 99.657353 136.079174 \nL 100.267301 134.832215 \nL 100.877248 133.288361 \nL 101.487195 133.228982 \nL 102.097142 133.34774 \nL 102.707089 133.050845 \nL 104.536931 125.272194 \nL 106.366772 114.643351 \nL 106.976719 110.368062 \nL 107.586667 107.458491 \nL 108.196614 110.843095 \nL 108.806561 114.940246 \nL 109.416508 116.721617 \nL 110.026455 116.009069 \nL 110.636402 114.227698 \nL 112.466244 107.577249 \nL 113.686138 103.242581 \nL 114.296085 100.036115 \nL 115.51598 91.248021 \nL 117.955768 72.306116 \nL 118.565716 74.146866 \nL 119.175663 77.828365 \nL 119.78561 79.194082 \nL 120.395557 78.481534 \nL 121.615451 74.146866 \nL 122.225399 71.415431 \nL 124.05524 66.427594 \nL 124.665187 63.518023 \nL 127.714923 45.526183 \nL 128.32487 47.426311 \nL 128.934817 51.998495 \nL 129.544765 54.729929 \nL 130.154712 55.679993 \nL 130.764659 55.204961 \nL 131.374606 54.551792 \nL 131.984553 53.007938 \nL 132.5945 51.998495 \nL 133.204448 51.285947 \nL 133.814395 50.098366 \nL 134.424342 48.495133 \nL 135.644236 43.329159 \nL 137.474078 34.541066 \nL 138.084025 37.925669 \nL 138.693972 43.507296 \nL 139.303919 46.832521 \nL 139.913866 47.901343 \nL 140.523814 48.376375 \nL 141.133761 48.495133 \nL 142.353655 47.604448 \nL 142.963602 47.782585 \nL 143.573549 46.773142 \nL 144.183497 45.348046 \nL 146.013338 38.697596 \nL 147.233232 33.412864 \nL 147.84318 35.312993 \nL 148.453127 40.835241 \nL 149.063074 44.991771 \nL 149.673021 46.416868 \nL 150.892915 47.426311 \nL 151.502863 46.535626 \nL 152.11281 46.060594 \nL 153.332704 45.644941 \nL 154.552598 42.260337 \nL 156.992387 32.4628 \nL 157.602334 30.206398 \nL 158.212281 33.947275 \nL 158.822229 39.05387 \nL 159.432176 42.022821 \nL 160.65207 43.685433 \nL 161.262017 43.626054 \nL 161.871964 42.913506 \nL 162.481912 42.616611 \nL 163.091859 42.557232 \nL 163.701806 42.0822 \nL 164.311753 41.310273 \nL 166.141595 37.094363 \nL 166.751542 35.431751 \nL 167.361489 34.30355 \nL 167.971436 38.875733 \nL 169.19133 52.532906 \nL 170.411225 60.311556 \nL 171.021172 63.161749 \nL 172.851013 69.812198 \nL 173.460961 71.593568 \nL 174.070908 72.424875 \nL 175.290802 72.127979 \nL 175.900749 71.356052 \nL 177.120644 68.802755 \nL 177.730591 68.862134 \nL 179.560432 85.072604 \nL 180.170379 86.794595 \nL 180.780327 87.804038 \nL 181.390274 87.388385 \nL 182.610168 85.90391 \nL 183.220115 85.488257 \nL 183.830062 85.428878 \nL 184.44001 84.656951 \nL 185.049957 83.113096 \nL 185.659904 81.212968 \nL 188.099693 72.009221 \nL 188.70964 70.821641 \nL 189.929534 80.619178 \nL 190.539481 83.231855 \nL 191.759376 85.725773 \nL 192.369323 86.319563 \nL 192.97927 86.557079 \nL 193.589217 86.972732 \nL 194.199164 87.032111 \nL 194.809111 86.200805 \nL 196.029006 83.231855 \nL 197.2489 78.244018 \nL 197.858847 75.928236 \nL 198.468794 73.078044 \nL 199.078742 71.237294 \nL 199.688689 74.621898 \nL 200.298636 80.737936 \nL 200.908583 84.478814 \nL 201.51853 86.141426 \nL 202.128477 87.388385 \nL 202.738425 89.110377 \nL 203.348372 89.110377 \nL 203.958319 90.060441 \nL 205.178213 90.179199 \nL 205.78816 90.772989 \nL 206.398108 94.988899 \nL 207.008055 101.223695 \nL 207.618002 104.786435 \nL 208.227949 105.974016 \nL 208.837896 106.627185 \nL 209.447843 108.527313 \nL 210.057791 112.149433 \nL 210.667738 121.353179 \nL 211.277685 133.228982 \nL 211.887632 141.72018 \nL 212.497579 147.895597 \nL 213.107526 152.705297 \nL 213.717474 155.793006 \nL 214.327421 156.683691 \nL 214.937368 155.971143 \nL 215.547315 155.852385 \nL 216.157262 155.971143 \nL 216.767209 155.496111 \nL 217.987104 152.111507 \nL 218.597051 149.55821 \nL 220.426892 140.235705 \nL 221.03684 138.75123 \nL 221.646787 141.779559 \nL 222.256734 144.095341 \nL 222.866681 143.739067 \nL 223.476628 142.729623 \nL 224.086575 142.135833 \nL 225.916417 136.851101 \nL 227.136311 131.625748 \nL 228.966153 121.650075 \nL 230.186047 113.871424 \nL 230.795994 111.73378 \nL 231.405941 115.29652 \nL 232.015889 118.087334 \nL 232.625836 118.087334 \nL 233.84573 114.346456 \nL 234.455677 112.208812 \nL 235.065624 109.596135 \nL 236.285519 105.795879 \nL 236.895466 102.351896 \nL 238.11536 96.889027 \nL 239.335255 90.357336 \nL 239.945202 86.260184 \nL 240.555149 85.013225 \nL 241.165096 88.93224 \nL 241.775043 90.71361 \nL 242.38499 90.11982 \nL 242.994938 89.050998 \nL 243.604885 87.744659 \nL 244.214832 84.478814 \nL 245.434726 79.787872 \nL 246.044673 78.71905 \nL 246.654621 78.065881 \nL 247.264568 75.928236 \nL 247.874515 72.781149 \nL 249.094409 64.468087 \nL 249.704356 61.91479 \nL 250.924251 68.624618 \nL 251.534198 69.396545 \nL 252.144145 69.040271 \nL 253.364039 66.962006 \nL 255.193881 62.211685 \nL 255.803828 59.717766 \nL 258.853564 40.063314 \nL 259.463511 41.132136 \nL 260.073458 44.813634 \nL 260.683405 46.773142 \nL 261.293353 46.476247 \nL 262.513247 43.804191 \nL 264.343088 36.738089 \nL 265.562983 33.412864 \nL 266.782877 26.762415 \nL 268.002771 18.865007 \nL 268.612719 17.083636 \nL 269.832613 24.862287 \nL 270.44256 26.762415 \nL 271.052507 27.831237 \nL 271.662454 28.187511 \nL 272.272402 28.24689 \nL 272.882349 27.771858 \nL 273.492296 28.009374 \nL 274.102243 27.534342 \nL 274.71219 26.821794 \nL 275.322137 27.118689 \nL 275.932085 26.821794 \nL 277.151979 23.971602 \nL 277.761926 23.971602 \nL 278.371873 29.790745 \nL 278.98182 36.916226 \nL 279.591768 42.260337 \nL 281.421609 52.414148 \nL 283.251451 57.10509 \nL 284.471345 59.183355 \nL 285.081292 59.599008 \nL 285.691239 59.539629 \nL 286.911134 58.470807 \nL 287.521081 59.302113 \nL 288.131028 65.952562 \nL 288.740975 73.849971 \nL 289.350922 79.787872 \nL 291.180764 91.841811 \nL 292.400658 94.870141 \nL 293.620552 97.30468 \nL 294.2305 97.423438 \nL 295.450394 94.692004 \nL 296.670288 91.782432 \nL 297.280235 90.772989 \nL 298.50013 87.150869 \nL 299.110077 87.447764 \nL 300.329971 99.08605 \nL 301.549866 105.617742 \nL 302.76976 110.605579 \nL 303.379707 112.743223 \nL 303.989654 114.287077 \nL 305.209549 115.652794 \nL 305.819496 115.059004 \nL 307.03939 113.099497 \nL 307.649337 112.624465 \nL 308.259284 111.911917 \nL 308.869232 111.377506 \nL 309.479179 110.130546 \nL 310.089126 109.89303 \nL 310.699073 114.940246 \nL 311.30902 122.956413 \nL 311.918967 129.13183 \nL 313.138862 137.444891 \nL 313.748809 140.710737 \nL 315.57865 145.93609 \nL 316.188598 148.014355 \nL 317.408492 151.220822 \nL 318.018439 152.111507 \nL 318.628386 152.645918 \nL 319.848281 152.230265 \nL 320.458228 150.864548 \nL 321.068175 151.517717 \nL 321.678122 158.049408 \nL 322.288069 166.184333 \nL 322.898016 172.240992 \nL 324.727858 186.13568 \nL 325.337805 188.57022 \nL 326.557699 192.370477 \nL 327.167647 193.261162 \nL 327.777594 193.083025 \nL 328.387541 191.954823 \nL 328.997488 190.410969 \nL 330.217382 185.423132 \nL 332.657171 173.844225 \nL 333.267118 170.875275 \nL 333.877065 172.597266 \nL 335.09696 185.066858 \nL 335.706907 188.451462 \nL 336.926801 193.795573 \nL 337.536748 195.398806 \nL 338.146696 196.170733 \nL 339.36659 198.545894 \nL 339.976537 198.902168 \nL 340.586484 198.427136 \nL 341.196431 197.655208 \nL 341.806379 196.586386 \nL 342.416326 194.864395 \nL 343.63622 192.014202 \nL 344.856115 187.738914 \nL 345.466062 186.551333 \nL 346.076009 191.361033 \nL 346.685956 197.358313 \nL 347.295903 200.802296 \nL 349.125745 206.205786 \nL 349.735692 206.918334 \nL 350.955586 207.927777 \nL 351.565533 208.165293 \nL 352.175481 207.215229 \nL 353.395375 203.830626 \nL 354.615269 199.852232 \nL 355.835164 195.398806 \nL 356.445111 192.904888 \nL 357.055058 194.151847 \nL 358.274952 204.958827 \nL 358.884899 208.224672 \nL 360.104794 212.203066 \nL 360.714741 213.687541 \nL 361.934635 214.518848 \nL 362.544582 214.756364 \nL 363.15453 214.40009 \nL 363.764477 213.331267 \nL 364.374424 211.846792 \nL 365.594318 207.987156 \nL 365.594318 207.987156 \n\" style=\"fill:none;stroke:#1f77b4;stroke-linecap:square;stroke-width:1.5;\"/>\n   </g>\n   <g id=\"patch_3\">\n    <path d=\"M 46.0125 224.64 \nL 46.0125 7.2 \n\" style=\"fill:none;stroke:#000000;stroke-linecap:square;stroke-linejoin:miter;stroke-width:0.8;\"/>\n   </g>\n   <g id=\"patch_4\">\n    <path d=\"M 380.8125 224.64 \nL 380.8125 7.2 \n\" style=\"fill:none;stroke:#000000;stroke-linecap:square;stroke-linejoin:miter;stroke-width:0.8;\"/>\n   </g>\n   <g id=\"patch_5\">\n    <path d=\"M 46.0125 224.64 \nL 380.8125 224.64 \n\" style=\"fill:none;stroke:#000000;stroke-linecap:square;stroke-linejoin:miter;stroke-width:0.8;\"/>\n   </g>\n   <g id=\"patch_6\">\n    <path d=\"M 46.0125 7.2 \nL 380.8125 7.2 \n\" style=\"fill:none;stroke:#000000;stroke-linecap:square;stroke-linejoin:miter;stroke-width:0.8;\"/>\n   </g>\n  </g>\n </g>\n <defs>\n  <clipPath id=\"p5158869ec6\">\n   <rect height=\"217.44\" width=\"334.8\" x=\"46.0125\" y=\"7.2\"/>\n  </clipPath>\n </defs>\n</svg>\n",
      "image/png": "[encoded data removed]"
     },
     "metadata": {
      "needs_background": "light"
     }
    }
   ],
   "source": [
    "import matplotlib.pyplot as plt\n",
    "ppg = record.loc[record[0] == 1, 1].values[1500:2000].astype(np.uint16)\n",
    "plt.plot(ppg)"
   ]
  },
  {
   "cell_type": "code",
   "execution_count": 31,
   "metadata": {},
   "outputs": [
    {
     "output_type": "execute_result",
     "data": {
      "text/plain": [
       "            0          1    2      3         4      5     6    7      8   \\\n",
       "0          100          0   62   50.0       0.0  250.0  50.0  0.0  250.0   \n",
       "1          112         50    0    NaN       NaN    NaN   NaN  NaN    NaN   \n",
       "2            4    3200597    0    NaN       NaN    NaN   NaN  NaN    NaN   \n",
       "3            4    3200569   20    NaN       NaN    NaN   NaN  NaN    NaN   \n",
       "4            4    3200541   40    NaN       NaN    NaN   NaN  NaN    NaN   \n",
       "...        ...        ...  ...    ...       ...    ...   ...  ...    ...   \n",
       "55262        2          4  -72 -496.0  365920.0    NaN   NaN  NaN    NaN   \n",
       "55263        2          4  -72 -496.0  365940.0    NaN   NaN  NaN    NaN   \n",
       "55264        2          4  -72 -496.0  365960.0    NaN   NaN  NaN    NaN   \n",
       "55265        2          4  -72 -496.0  365980.0    NaN   NaN  NaN    NaN   \n",
       "55266  APP_MSG  TotalTime  184    NaN       NaN    NaN   NaN  NaN    NaN   \n",
       "\n",
       "         9    10  \n",
       "0      50.0  0.0  \n",
       "1       NaN  NaN  \n",
       "2       NaN  NaN  \n",
       "3       NaN  NaN  \n",
       "4       NaN  NaN  \n",
       "...     ...  ...  \n",
       "55262   NaN  NaN  \n",
       "55263   NaN  NaN  \n",
       "55264   NaN  NaN  \n",
       "55265   NaN  NaN  \n",
       "55266   NaN  NaN  \n",
       "\n",
       "[55267 rows x 11 columns]"
      ],
      "text/html": "<div>\n<style scoped>\n    .dataframe tbody tr th:only-of-type {\n        vertical-align: middle;\n    }\n\n    .dataframe tbody tr th {\n        vertical-align: top;\n    }\n\n    .dataframe thead th {\n        text-align: right;\n    }\n</style>\n<table border=\"1\" class=\"dataframe\">\n  <thead>\n    <tr style=\"text-align: right;\">\n      <th></th>\n      <th>0</th>\n      <th>1</th>\n      <th>2</th>\n      <th>3</th>\n      <th>4</th>\n      <th>5</th>\n      <th>6</th>\n      <th>7</th>\n      <th>8</th>\n      <th>9</th>\n      <th>10</th>\n    </tr>\n  </thead>\n  <tbody>\n    <tr>\n      <th>0</th>\n      <td>100</td>\n      <td>0</td>\n      <td>62</td>\n      <td>50.0</td>\n      <td>0.0</td>\n      <td>250.0</td>\n      <td>50.0</td>\n      <td>0.0</td>\n      <td>250.0</td>\n      <td>50.0</td>\n      <td>0.0</td>\n    </tr>\n    <tr>\n      <th>1</th>\n      <td>112</td>\n      <td>50</td>\n      <td>0</td>\n      <td>NaN</td>\n      <td>NaN</td>\n      <td>NaN</td>\n      <td>NaN</td>\n      <td>NaN</td>\n      <td>NaN</td>\n      <td>NaN</td>\n      <td>NaN</td>\n    </tr>\n    <tr>\n      <th>2</th>\n      <td>4</td>\n      <td>3200597</td>\n      <td>0</td>\n      <td>NaN</td>\n      <td>NaN</td>\n      <td>NaN</td>\n      <td>NaN</td>\n      <td>NaN</td>\n      <td>NaN</td>\n      <td>NaN</td>\n      <td>NaN</td>\n    </tr>\n    <tr>\n      <th>3</th>\n      <td>4</td>\n      <td>3200569</td>\n      <td>20</td>\n      <td>NaN</td>\n      <td>NaN</td>\n      <td>NaN</td>\n      <td>NaN</td>\n      <td>NaN</td>\n      <td>NaN</td>\n      <td>NaN</td>\n      <td>NaN</td>\n    </tr>\n    <tr>\n      <th>4</th>\n      <td>4</td>\n      <td>3200541</td>\n      <td>40</td>\n      <td>NaN</td>\n      <td>NaN</td>\n      <td>NaN</td>\n      <td>NaN</td>\n      <td>NaN</td>\n      <td>NaN</td>\n      <td>NaN</td>\n      <td>NaN</td>\n    </tr>\n    <tr>\n      <th>...</th>\n      <td>...</td>\n      <td>...</td>\n      <td>...</td>\n      <td>...</td>\n      <td>...</td>\n      <td>...</td>\n      <td>...</td>\n      <td>...</td>\n      <td>...</td>\n      <td>...</td>\n      <td>...</td>\n    </tr>\n    <tr>\n      <th>55262</th>\n      <td>2</td>\n      <td>4</td>\n      <td>-72</td>\n      <td>-496.0</td>\n      <td>365920.0</td>\n      <td>NaN</td>\n      <td>NaN</td>\n      <td>NaN</td>\n      <td>NaN</td>\n      <td>NaN</td>\n      <td>NaN</td>\n    </tr>\n    <tr>\n      <th>55263</th>\n      <td>2</td>\n      <td>4</td>\n      <td>-72</td>\n      <td>-496.0</td>\n      <td>365940.0</td>\n      <td>NaN</td>\n      <td>NaN</td>\n      <td>NaN</td>\n      <td>NaN</td>\n      <td>NaN</td>\n      <td>NaN</td>\n    </tr>\n    <tr>\n      <th>55264</th>\n      <td>2</td>\n      <td>4</td>\n      <td>-72</td>\n      <td>-496.0</td>\n      <td>365960.0</td>\n      <td>NaN</td>\n      <td>NaN</td>\n      <td>NaN</td>\n      <td>NaN</td>\n      <td>NaN</td>\n      <td>NaN</td>\n    </tr>\n    <tr>\n      <th>55265</th>\n      <td>2</td>\n      <td>4</td>\n      <td>-72</td>\n      <td>-496.0</td>\n      <td>365980.0</td>\n      <td>NaN</td>\n      <td>NaN</td>\n      <td>NaN</td>\n      <td>NaN</td>\n      <td>NaN</td>\n      <td>NaN</td>\n    </tr>\n    <tr>\n      <th>55266</th>\n      <td>APP_MSG</td>\n      <td>TotalTime</td>\n      <td>184</td>\n      <td>NaN</td>\n      <td>NaN</td>\n      <td>NaN</td>\n      <td>NaN</td>\n      <td>NaN</td>\n      <td>NaN</td>\n      <td>NaN</td>\n      <td>NaN</td>\n    </tr>\n  </tbody>\n</table>\n<p>55267 rows × 11 columns</p>\n</div>"
     },
     "metadata": {},
     "execution_count": 31
    }
   ],
   "source": [
    "record"
   ]
  },
  {
   "cell_type": "code",
   "execution_count": 30,
   "metadata": {},
   "outputs": [
    {
     "output_type": "execute_result",
     "data": {
      "text/plain": [
       "numpy.int64"
      ]
     },
     "metadata": {},
     "execution_count": 30
    }
   ],
   "source": [
    "type(np.min([1, 2]))"
   ]
  },
  {
   "cell_type": "code",
   "execution_count": 15,
   "metadata": {},
   "outputs": [
    {
     "output_type": "execute_result",
     "data": {
      "text/plain": [
       "Int64Index([0, 1, 2], dtype='int64')"
      ]
     },
     "metadata": {},
     "execution_count": 15
    }
   ],
   "source": [
    "record.columns"
   ]
  },
  {
   "cell_type": "code",
   "execution_count": 5,
   "metadata": {},
   "outputs": [
    {
     "output_type": "stream",
     "name": "stdout",
     "text": [
      "green\nir\ngreen\nir\ngreen\nir\ngreen\nir\ngreen\nir\ngreen\nir\ngreen\nir\ngreen\nir\ngreen\nir\ngreen\nir\ngreen\nir\ngreen\nir\ngreen\nir\ngreen\nir\ngreen\nir\ngreen\nir\ngreen\nir\ngreen\nir\ngreen\nir\ngreen\nir\ngreen\nir\ngreen\nir\ngreen\nir\ngreen\nir\ngreen\nir\ngreen\nir\ngreen\nir\ngreen\nir\ngreen\nir\ngreen\nir\ngreen\nir\ngreen\nir\ngreen\nir\ngreen\nir\ngreen\nir\ngreen\nir\ngreen\nir\ngreen\nir\ngreen\nir\ngreen\nir\ngreen\nir\ngreen\nir\ngreen\nir\ngreen\nir\ngreen\nir\ngreen\nir\ngreen\nir\ngreen\nir\ngreen\nir\ngreen\nir\ngreen\nir\ngreen\nir\ngreen\nir\ngreen\nir\ngreen\nir\ngreen\nir\ngreen\nir\ngreen\nir\ngreen\nir\ngreen\nir\ngreen\nir\ngreen\nir\ngreen\nir\ngreen\nir\ngreen\nir\ngreen\nir\ngreen\nir\ngreen\nir\ngreen\nir\ngreen\nir\ngreen\nir\ngreen\nir\ngreen\nir\ngreen\nir\ngreen\nir\ngreen\nir\ngreen\nir\ngreen\nir\ngreen\nir\ngreen\nir\ngreen\nir\ngreen\nir\ngreen\nir\ngreen\nir\ngreen\nir\ngreen\nir\ngreen\nir\ngreen\nir\ngreen\nir\ngreen\nir\ngreen\nir\ngreen\nir\ngreen\nir\ngreen\nir\ngreen\nir\ngreen\nir\n"
     ]
    }
   ],
   "source": [
    "for i in range(32):\n",
    "    print(\"green\")\n",
    "    print(\"ir\")\n",
    "    print(\"green\")\n",
    "    print(\"ir\")\n",
    "    print(\"green\")\n",
    "    print(\"ir\")"
   ]
  },
  {
   "cell_type": "code",
   "execution_count": 4,
   "metadata": {},
   "outputs": [
    {
     "output_type": "execute_result",
     "data": {
      "text/plain": [
       "32.0"
      ]
     },
     "metadata": {},
     "execution_count": 4
    }
   ],
   "source": [
    "192/ 6"
   ]
  },
  {
   "cell_type": "code",
   "execution_count": null,
   "metadata": {},
   "outputs": [],
   "source": []
  }
 ]
}